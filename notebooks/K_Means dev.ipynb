{
 "metadata": {
  "name": "",
  "signature": "sha256:620439b8e274727949ee5205f78f7d0d6aaee61fe34c9800fd748cff92c527a2"
 },
 "nbformat": 3,
 "nbformat_minor": 0,
 "worksheets": [
  {
   "cells": [
    {
     "cell_type": "code",
     "collapsed": false,
     "input": [
      "%pylab\n",
      "import numbapro\n",
      "from numbapro import *\n",
      "#%qtconsole"
     ],
     "language": "python",
     "metadata": {},
     "outputs": [
      {
       "output_type": "stream",
       "stream": "stdout",
       "text": [
        "Using matplotlib backend: Qt4Agg\n",
        "Populating the interactive namespace from numpy and matplotlib\n"
       ]
      }
     ],
     "prompt_number": 1
    },
    {
     "cell_type": "code",
     "collapsed": false,
     "input": [
      "cd /home/chiroptera/workspace/QCThesis/CUDA/"
     ],
     "language": "python",
     "metadata": {},
     "outputs": []
    },
    {
     "cell_type": "code",
     "collapsed": false,
     "input": [
      "import K_Means2"
     ],
     "language": "python",
     "metadata": {},
     "outputs": []
    },
    {
     "cell_type": "code",
     "collapsed": false,
     "input": [
      "from sklearn import datasets # generate gaussian mixture\n",
      "from timeit import default_timer as timer # timing"
     ],
     "language": "python",
     "metadata": {},
     "outputs": []
    },
    {
     "cell_type": "code",
     "collapsed": false,
     "input": [
      "##generate data\n",
      "n = 2e6\n",
      "d = 2\n",
      "k = 20\n",
      "\n",
      "n = np.int(n)\n",
      "\n",
      "total_bytes = np.float((n * d + k * d + n * k) * 4)\n",
      "print 'Memory used by arrays:\\t',total_bytes/1024,'\\tKBytes'\n",
      "print '\\t\\t\\t',total_bytes/(1024*1024),'\\tMBytes'\n",
      "\n",
      "print 'Memory used by data:  \\t',n * d * 4 / 1024,'\\t','KBytes'"
     ],
     "language": "python",
     "metadata": {},
     "outputs": []
    },
    {
     "cell_type": "code",
     "collapsed": false,
     "input": [
      "## Generate data\n",
      "#data = np.random.random((n,d)).astype(np.float32)\n",
      "data, groundTruth = datasets.make_blobs(n_samples=n,n_features=d,centers=k,\n",
      "                                        center_box=(-1000.0,1000.0))\n",
      "data = data.astype(np.float32)"
     ],
     "language": "python",
     "metadata": {},
     "outputs": []
    },
    {
     "cell_type": "markdown",
     "metadata": {},
     "source": [
      "# Testing 3 iterations"
     ]
    },
    {
     "cell_type": "code",
     "collapsed": false,
     "input": [
      "%qtconsole"
     ],
     "language": "python",
     "metadata": {},
     "outputs": []
    },
    {
     "cell_type": "code",
     "collapsed": false,
     "input": [
      "times=dict() #dicitonary to store times\n",
      "\n",
      "start = timer()\n",
      "grouperCUDA = K_Means()\n",
      "grouperCUDA.fit(data,k,cuda=True,iters=3)\n",
      "times['cuda'] = timer() - start\n",
      "\n",
      "start = timer()\n",
      "grouperNP = K_Means()\n",
      "grouperNP.fit(data,k,cuda=False,iters=3)\n",
      "times['numpy'] = timer() - start\n",
      "#del grouperNP\n",
      "\n",
      "print 'Times'\n",
      "print 'CUDA','\\t',times['cuda']\n",
      "print 'NumPy','\\t',times['numpy']"
     ],
     "language": "python",
     "metadata": {},
     "outputs": []
    },
    {
     "cell_type": "code",
     "collapsed": false,
     "input": [
      "1+1"
     ],
     "language": "python",
     "metadata": {},
     "outputs": []
    }
   ],
   "metadata": {}
  }
 ]
}