{
 "cells": [
  {
   "cell_type": "markdown",
   "metadata": {},
   "source": [
    "author: Diogo Silva"
   ]
  },
  {
   "cell_type": "code",
   "execution_count": 1,
   "metadata": {
    "collapsed": true
   },
   "outputs": [],
   "source": [
    "import numpy as np\n",
    "import seaborn as snb\n",
    "import matplotlib.pyplot as plt"
   ]
  },
  {
   "cell_type": "code",
   "execution_count": 2,
   "metadata": {
    "collapsed": true
   },
   "outputs": [],
   "source": [
    "%matplotlib inline"
   ]
  },
  {
   "cell_type": "code",
   "execution_count": 5,
   "metadata": {
    "collapsed": false
   },
   "outputs": [],
   "source": [
    "from MyML.cluster.K_Means3 import K_Means\n",
    "import MyML.helper.partition as partMod"
   ]
  },
  {
   "cell_type": "code",
   "execution_count": null,
   "metadata": {
    "collapsed": true
   },
   "outputs": [],
   "source": [
    "n_samples = 1e4\n",
    "n_samples = int(n_samples)\n",
    "n_features = 2\n",
    "n_clusters = 6"
   ]
  },
  {
   "cell_type": "code",
   "execution_count": null,
   "metadata": {
    "collapsed": false
   },
   "outputs": [],
   "source": [
    "g1 = np.random.normal(loc=(0,0), scale=1, size=(n_samples/n_clusters, n_features))\n",
    "g2 = np.random.normal(loc=(10,5), scale=0.5, size=(n_samples/n_clusters, n_features))\n",
    "g3 = np.random.normal(loc=(0,8), scale=0.1, size=(n_samples/n_clusters, n_features))\n",
    "g4 = np.random.normal(loc=(-10,5), scale=(0.25,1), size=(n_samples/n_clusters, n_features))\n",
    "g5 = np.random.normal(loc=(5,10), scale=0.5, size=(n_samples/n_clusters, n_features))\n",
    "g6 = np.random.normal(loc=(10,-5), scale=0.5, size=(n_samples/n_clusters, n_features))\n",
    "\n",
    "data = np.vstack((g1,g2,g3,g4,g5,g6))\n",
    "\n",
    "plt.plot(data[:,0],data[:,1],'.')"
   ]
  },
  {
   "cell_type": "code",
   "execution_count": null,
   "metadata": {
    "collapsed": true
   },
   "outputs": [],
   "source": [
    "del g1, g2, g3, g4, g5, g6, data"
   ]
  },
  {
   "cell_type": "code",
   "execution_count": 56,
   "metadata": {
    "collapsed": false
   },
   "outputs": [],
   "source": [
    "foldername = \"/home/diogoaos/QCThesis/datasets/gaussmix1e4/\"\n",
    "dataname = \"data.csv\""
   ]
  },
  {
   "cell_type": "code",
   "execution_count": 57,
   "metadata": {
    "collapsed": true
   },
   "outputs": [],
   "source": [
    "np.savetxt(foldername + dataname, data, delimiter = \",\")"
   ]
  },
  {
   "cell_type": "code",
   "execution_count": 7,
   "metadata": {
    "collapsed": true
   },
   "outputs": [],
   "source": [
    "data = np.genfromtxt(foldername + dataname, delimiter = \",\", dtype = np.float32)"
   ]
  },
  {
   "cell_type": "code",
   "execution_count": 62,
   "metadata": {
    "collapsed": true
   },
   "outputs": [],
   "source": [
    "n_partitions = 100\n",
    "ensemble_clusters = [np.sqrt(n_samples)/4, np.sqrt(n_samples)/2]\n",
    "ensemble_clusters = map(int, ensemble_clusters)\n",
    "generator = K_Means(cuda_mem=\"manual\")"
   ]
  },
  {
   "cell_type": "code",
   "execution_count": 63,
   "metadata": {
    "collapsed": true
   },
   "outputs": [
    {
     "name": "stdout",
     "output_type": "stream",
     "text": [
      "WARNING DATA DUPLICATION: data converted to float32. TODO: accept other formats\n",
      "WARNING DATA DUPLICATION: data converted to float32. TODO: accept other formats\n",
      "WARNING DATA DUPLICATION: data converted to float32. TODO: accept other formats\n",
      "WARNING DATA DUPLICATION: data converted to float32. TODO: accept other formats\n",
      "WARNING DATA DUPLICATION: data converted to float32. TODO: accept other formats\n",
      "WARNING DATA DUPLICATION: data converted to float32. TODO: accept other formats\n",
      "WARNING DATA DUPLICATION: data converted to float32. TODO: accept other formats\n",
      "WARNING DATA DUPLICATION: data converted to float32. TODO: accept other formats\n",
      "WARNING DATA DUPLICATION: data converted to float32. TODO: accept other formats\n",
      "WARNING DATA DUPLICATION: data converted to float32. TODO: accept other formats\n",
      "WARNING DATA DUPLICATION: data converted to float32. TODO: accept other formats\n",
      "WARNING DATA DUPLICATION: data converted to float32. TODO: accept other formats\n",
      "WARNING DATA DUPLICATION: data converted to float32. TODO: accept other formats\n",
      "WARNING DATA DUPLICATION: data converted to float32. TODO: accept other formats\n",
      "WARNING DATA DUPLICATION: data converted to float32. TODO: accept other formats\n",
      "WARNING DATA DUPLICATION: data converted to float32. TODO: accept other formats\n",
      "WARNING DATA DUPLICATION: data converted to float32. TODO: accept other formats\n",
      "WARNING DATA DUPLICATION: data converted to float32. TODO: accept other formats\n",
      "WARNING DATA DUPLICATION: data converted to float32. TODO: accept other formats\n",
      "WARNING DATA DUPLICATION: data converted to float32. TODO: accept other formats\n",
      "WARNING DATA DUPLICATION: data converted to float32. TODO: accept other formats\n",
      "WARNING DATA DUPLICATION: data converted to float32. TODO: accept other formats\n",
      "WARNING DATA DUPLICATION: data converted to float32. TODO: accept other formats\n",
      "WARNING DATA DUPLICATION: data converted to float32. TODO: accept other formats\n",
      "WARNING DATA DUPLICATION: data converted to float32. TODO: accept other formats\n",
      "WARNING DATA DUPLICATION: data converted to float32. TODO: accept other formats\n",
      "WARNING DATA DUPLICATION: data converted to float32. TODO: accept other formats\n",
      "WARNING DATA DUPLICATION: data converted to float32. TODO: accept other formats\n",
      "WARNING DATA DUPLICATION: data converted to float32. TODO: accept other formats\n",
      "WARNING DATA DUPLICATION: data converted to float32. TODO: accept other formats\n",
      "WARNING DATA DUPLICATION: data converted to float32. TODO: accept other formats\n",
      "WARNING DATA DUPLICATION: data converted to float32. TODO: accept other formats\n",
      "WARNING DATA DUPLICATION: data converted to float32. TODO: accept other formats\n",
      "WARNING DATA DUPLICATION: data converted to float32. TODO: accept other formats\n",
      "WARNING DATA DUPLICATION: data converted to float32. TODO: accept other formats\n",
      "WARNING DATA DUPLICATION: data converted to float32. TODO: accept other formats\n",
      "WARNING DATA DUPLICATION: data converted to float32. TODO: accept other formats\n",
      "WARNING DATA DUPLICATION: data converted to float32. TODO: accept other formats\n",
      "WARNING DATA DUPLICATION: data converted to float32. TODO: accept other formats\n",
      "WARNING DATA DUPLICATION: data converted to float32. TODO: accept other formats\n",
      "WARNING DATA DUPLICATION: data converted to float32. TODO: accept other formats\n",
      "WARNING DATA DUPLICATION: data converted to float32. TODO: accept other formats\n",
      "WARNING DATA DUPLICATION: data converted to float32. TODO: accept other formats\n",
      "WARNING DATA DUPLICATION: data converted to float32. TODO: accept other formats\n",
      "WARNING DATA DUPLICATION: data converted to float32. TODO: accept other formats\n",
      "WARNING DATA DUPLICATION: data converted to float32. TODO: accept other formats\n",
      "WARNING DATA DUPLICATION: data converted to float32. TODO: accept other formats\n",
      "WARNING DATA DUPLICATION: data converted to float32. TODO: accept other formats\n",
      "WARNING DATA DUPLICATION: data converted to float32. TODO: accept other formats\n",
      "WARNING DATA DUPLICATION: data converted to float32. TODO: accept other formats\n",
      "WARNING DATA DUPLICATION: data converted to float32. TODO: accept other formats\n",
      "WARNING DATA DUPLICATION: data converted to float32. TODO: accept other formats\n",
      "WARNING DATA DUPLICATION: data converted to float32. TODO: accept other formats\n",
      "WARNING DATA DUPLICATION: data converted to float32. TODO: accept other formats\n",
      "WARNING DATA DUPLICATION: data converted to float32. TODO: accept other formats\n",
      "WARNING DATA DUPLICATION: data converted to float32. TODO: accept other formats\n",
      "WARNING DATA DUPLICATION: data converted to float32. TODO: accept other formats\n",
      "WARNING DATA DUPLICATION: data converted to float32. TODO: accept other formats\n",
      "WARNING DATA DUPLICATION: data converted to float32. TODO: accept other formats\n",
      "WARNING DATA DUPLICATION: data converted to float32. TODO: accept other formats\n",
      "WARNING DATA DUPLICATION: data converted to float32. TODO: accept other formats\n",
      "WARNING DATA DUPLICATION: data converted to float32. TODO: accept other formats\n",
      "WARNING DATA DUPLICATION: data converted to float32. TODO: accept other formats\n",
      "WARNING DATA DUPLICATION: data converted to float32. TODO: accept other formats\n",
      "WARNING DATA DUPLICATION: data converted to float32. TODO: accept other formats\n",
      "WARNING DATA DUPLICATION: data converted to float32. TODO: accept other formats\n",
      "WARNING DATA DUPLICATION: data converted to float32. TODO: accept other formats\n",
      "WARNING DATA DUPLICATION: data converted to float32. TODO: accept other formats\n",
      "WARNING DATA DUPLICATION: data converted to float32. TODO: accept other formats\n",
      "WARNING DATA DUPLICATION: data converted to float32. TODO: accept other formats\n",
      "WARNING DATA DUPLICATION: data converted to float32. TODO: accept other formats\n",
      "WARNING DATA DUPLICATION: data converted to float32. TODO: accept other formats\n",
      "WARNING DATA DUPLICATION: data converted to float32. TODO: accept other formats\n",
      "WARNING DATA DUPLICATION: data converted to float32. TODO: accept other formats\n",
      "WARNING DATA DUPLICATION: data converted to float32. TODO: accept other formats\n",
      "WARNING DATA DUPLICATION: data converted to float32. TODO: accept other formats\n",
      "WARNING DATA DUPLICATION: data converted to float32. TODO: accept other formats\n",
      "WARNING DATA DUPLICATION: data converted to float32. TODO: accept other formats\n",
      "WARNING DATA DUPLICATION: data converted to float32. TODO: accept other formats\n",
      "WARNING DATA DUPLICATION: data converted to float32. TODO: accept other formats\n",
      "WARNING DATA DUPLICATION: data converted to float32. TODO: accept other formats\n",
      "WARNING DATA DUPLICATION: data converted to float32. TODO: accept other formats\n",
      "WARNING DATA DUPLICATION: data converted to float32. TODO: accept other formats\n",
      "WARNING DATA DUPLICATION: data converted to float32. TODO: accept other formats\n",
      "WARNING DATA DUPLICATION: data converted to float32. TODO: accept other formats\n",
      "WARNING DATA DUPLICATION: data converted to float32. TODO: accept other formats\n",
      "WARNING DATA DUPLICATION: data converted to float32. TODO: accept other formats\n",
      "WARNING DATA DUPLICATION: data converted to float32. TODO: accept other formats\n",
      "WARNING DATA DUPLICATION: data converted to float32. TODO: accept other formats\n",
      "WARNING DATA DUPLICATION: data converted to float32. TODO: accept other formats\n",
      "WARNING DATA DUPLICATION: data converted to float32. TODO: accept other formats\n",
      "WARNING DATA DUPLICATION: data converted to float32. TODO: accept other formats\n",
      "WARNING DATA DUPLICATION: data converted to float32. TODO: accept other formats\n",
      "WARNING DATA DUPLICATION: data converted to float32. TODO: accept other formats\n",
      "WARNING DATA DUPLICATION: data converted to float32. TODO: accept other formats\n",
      "WARNING DATA DUPLICATION: data converted to float32. TODO: accept other formats\n",
      "WARNING DATA DUPLICATION: data converted to float32. TODO: accept other formats\n",
      "WARNING DATA DUPLICATION: data converted to float32. TODO: accept other formats\n",
      "WARNING DATA DUPLICATION: data converted to float32. TODO: accept other formats\n",
      "WARNING DATA DUPLICATION: data converted to float32. TODO: accept other formats\n",
      "CPU times: user 1.74 s, sys: 200 ms, total: 1.94 s\n",
      "Wall time: 1.95 s\n"
     ]
    }
   ],
   "source": [
    "%time partMod.generateEnsembleToFiles(foldername, data, generator, n_clusters=ensemble_clusters, npartitions=n_partitions)"
   ]
  },
  {
   "cell_type": "markdown",
   "metadata": {
    "collapsed": true
   },
   "source": [
    "# Build co-association matrix"
   ]
  },
  {
   "cell_type": "markdown",
   "metadata": {},
   "source": [
    "## Load ensemble"
   ]
  },
  {
   "cell_type": "code",
   "execution_count": 4,
   "metadata": {
    "collapsed": true
   },
   "outputs": [],
   "source": [
    "import MyML.cluster.eac as eac"
   ]
  },
  {
   "cell_type": "code",
   "execution_count": 5,
   "metadata": {
    "collapsed": false
   },
   "outputs": [
    {
     "ename": "NameError",
     "evalue": "name 'foldername' is not defined",
     "output_type": "error",
     "traceback": [
      "\u001b[1;31m---------------------------------------------------------------------------\u001b[0m",
      "\u001b[1;31mNameError\u001b[0m                                 Traceback (most recent call last)",
      "\u001b[1;32m<ipython-input-5-0a4073b16d70>\u001b[0m in \u001b[0;36m<module>\u001b[1;34m()\u001b[0m\n\u001b[1;32m----> 1\u001b[1;33m \u001b[0mfilename\u001b[0m\u001b[1;33m=\u001b[0m\u001b[0mfoldername\u001b[0m\u001b[1;33m+\u001b[0m\u001b[1;34m\"part0.csv\"\u001b[0m\u001b[1;33m\u001b[0m\u001b[0m\n\u001b[0m",
      "\u001b[1;31mNameError\u001b[0m: name 'foldername' is not defined"
     ]
    }
   ],
   "source": [
    "filename=foldername+\"part0.csv\""
   ]
  },
  {
   "cell_type": "code",
   "execution_count": 160,
   "metadata": {
    "collapsed": false
   },
   "outputs": [],
   "source": [
    "filelist = !ls $foldername"
   ]
  },
  {
   "cell_type": "code",
   "execution_count": 162,
   "metadata": {
    "collapsed": false
   },
   "outputs": [],
   "source": [
    "prefix = ''\n",
    "filelist = [foldername + prefix + fname for fname in filelist if \"part\" in fname]"
   ]
  },
  {
   "cell_type": "code",
   "execution_count": null,
   "metadata": {
    "collapsed": true
   },
   "outputs": [],
   "source": [
    "ensembe = partMod.loadEnsembleFromFiles(filelist=filelist)"
   ]
  },
  {
   "cell_type": "code",
   "execution_count": 256,
   "metadata": {
    "collapsed": true
   },
   "outputs": [],
   "source": [
    "max_val = 0\n",
    "for clust in ensemble[0]:\n",
    "    temp = clust.max()\n",
    "    if temp > max_val:\n",
    "        max_val = temp\n",
    "n_samples = max_val + 1"
   ]
  },
  {
   "cell_type": "code",
   "execution_count": 7,
   "metadata": {
    "collapsed": false
   },
   "outputs": [],
   "source": [
    "fullEAC = eac.EAC(n_samples = n_samples, mat_sparse = False)"
   ]
  },
  {
   "cell_type": "code",
   "execution_count": 259,
   "metadata": {
    "collapsed": false
   },
   "outputs": [
    {
     "name": "stdout",
     "output_type": "stream",
     "text": [
      "CPU times: user 3.38 s, sys: 0 ns, total: 3.38 s\n",
      "Wall time: 3.38 s\n"
     ]
    }
   ],
   "source": [
    "%time fullEAC.fit(ensemble, assoc_mode=\"full\")"
   ]
  },
  {
   "cell_type": "markdown",
   "metadata": {},
   "source": [
    "Total time = 3.37s"
   ]
  },
  {
   "cell_type": "code",
   "execution_count": 271,
   "metadata": {
    "collapsed": true
   },
   "outputs": [],
   "source": [
    "coassoc = np.zeros((n_samples, n_samples), dtype=np.int8)"
   ]
  },
  {
   "cell_type": "code",
   "execution_count": 272,
   "metadata": {
    "collapsed": false
   },
   "outputs": [
    {
     "name": "stdout",
     "output_type": "stream",
     "text": [
      "CPU times: user 975 ms, sys: 12.3 ms, total: 987 ms\n",
      "Wall time: 978 ms\n"
     ]
    }
   ],
   "source": [
    "%time eac.update_coassoc_with_ensemble(coassoc, ensemble)"
   ]
  },
  {
   "cell_type": "markdown",
   "metadata": {},
   "source": [
    "Total time = 987 ms"
   ]
  },
  {
   "cell_type": "code",
   "execution_count": 280,
   "metadata": {
    "collapsed": true
   },
   "outputs": [],
   "source": [
    "protEAC = eac.EAC(n_samples = n_samples, mat_sparse = False)"
   ]
  },
  {
   "cell_type": "code",
   "execution_count": 281,
   "metadata": {
    "collapsed": false
   },
   "outputs": [
    {
     "name": "stdout",
     "output_type": "stream",
     "text": [
      "CPU times: user 421 ms, sys: 3 µs, total: 421 ms\n",
      "Wall time: 429 ms\n"
     ]
    }
   ],
   "source": [
    "%time protEAC.fit(ensemble, assoc_mode=\"prot\", prot_mode=\"random\", nprot=int(np.sqrt(n_samples)))"
   ]
  },
  {
   "cell_type": "markdown",
   "metadata": {},
   "source": [
    "Total time = 421 ms"
   ]
  },
  {
   "cell_type": "code",
   "execution_count": 193,
   "metadata": {
    "collapsed": true
   },
   "outputs": [],
   "source": [
    "sparseEAC = eac.EAC(n_samples = n_samples, mat_sparse = True)"
   ]
  },
  {
   "cell_type": "code",
   "execution_count": 194,
   "metadata": {
    "collapsed": false
   },
   "outputs": [
    {
     "name": "stdout",
     "output_type": "stream",
     "text": [
      "CPU times: user 13min 20s, sys: 726 ms, total: 13min 21s\n",
      "Wall time: 13min 21s\n"
     ]
    }
   ],
   "source": [
    "%time sparseEAC.fit(ensemble, assoc_mode=\"full\")"
   ]
  },
  {
   "cell_type": "markdown",
   "metadata": {},
   "source": [
    "Total time = 13min 21s"
   ]
  },
  {
   "cell_type": "code",
   "execution_count": 202,
   "metadata": {
    "collapsed": true
   },
   "outputs": [],
   "source": [
    "from scipy.sparse import csr_matrix"
   ]
  },
  {
   "cell_type": "code",
   "execution_count": 282,
   "metadata": {
    "collapsed": false
   },
   "outputs": [
    {
     "name": "stdout",
     "output_type": "stream",
     "text": [
      "CPU times: user 1.02 s, sys: 0 ns, total: 1.02 s\n",
      "Wall time: 1.02 s\n"
     ]
    }
   ],
   "source": [
    "%time coassoc_sp = csr_matrix(coassoc)"
   ]
  },
  {
   "cell_type": "markdown",
   "metadata": {},
   "source": [
    "Total time to build sparse from full = 1.02s"
   ]
  },
  {
   "cell_type": "code",
   "execution_count": 283,
   "metadata": {
    "collapsed": false
   },
   "outputs": [
    {
     "name": "stdout",
     "output_type": "stream",
     "text": [
      "density= 0.156158101496\n"
     ]
    }
   ],
   "source": [
    "print \"density=\",coassoc_sp.nnz/(n_samples**2.0)"
   ]
  },
  {
   "cell_type": "code",
   "execution_count": 288,
   "metadata": {
    "collapsed": false
   },
   "outputs": [
    {
     "data": {
      "text/plain": [
       "15603320"
      ]
     },
     "execution_count": 288,
     "metadata": {},
     "output_type": "execute_result"
    }
   ],
   "source": [
    "coassoc_sp.indptr[-1]"
   ]
  },
  {
   "cell_type": "code",
   "execution_count": 319,
   "metadata": {
    "collapsed": false
   },
   "outputs": [
    {
     "data": {
      "text/plain": [
       "953.67431640625"
      ]
     },
     "execution_count": 319,
     "metadata": {},
     "output_type": "execute_result"
    }
   ],
   "source": [
    "1e5*1e4/1024/1024"
   ]
  },
  {
   "cell_type": "code",
   "execution_count": 320,
   "metadata": {
    "collapsed": false
   },
   "outputs": [
    {
     "name": "stdout",
     "output_type": "stream",
     "text": [
      "CPU times: user 57.9 s, sys: 27.9 s, total: 1min 25s\n",
      "Wall time: 4min 17s\n"
     ]
    }
   ],
   "source": [
    "%%time\n",
    "sp0=csr_matrix(np.random.randint(0, 2, (100000,10000)))\n",
    "sp1=csr_matrix(np.random.randint(0, 2, (100000,10000)))"
   ]
  },
  {
   "cell_type": "code",
   "execution_count": 322,
   "metadata": {
    "collapsed": false
   },
   "outputs": [
    {
     "data": {
      "text/plain": [
       "0.500006773"
      ]
     },
     "execution_count": 322,
     "metadata": {},
     "output_type": "execute_result"
    }
   ],
   "source": [
    "sp0.nnz/(1.0*np.prod(sp0.shape))"
   ]
  },
  {
   "cell_type": "code",
   "execution_count": 323,
   "metadata": {
    "collapsed": false
   },
   "outputs": [
    {
     "name": "stdout",
     "output_type": "stream",
     "text": [
      "CPU times: user 5.1 s, sys: 1.02 s, total: 6.12 s\n",
      "Wall time: 8.68 s\n"
     ]
    }
   ],
   "source": [
    "%time sp2 = sp0 + sp1"
   ]
  },
  {
   "cell_type": "markdown",
   "metadata": {},
   "source": [
    "# SL-HAC"
   ]
  },
  {
   "cell_type": "code",
   "execution_count": 8,
   "metadata": {
    "collapsed": false
   },
   "outputs": [
    {
     "name": "stderr",
     "output_type": "stream",
     "text": [
      "/home/chiroptera/anaconda/lib/python2.7/site-packages/numba/cuda/decorators.py:106: UserWarning: autojit is deprecated and will be removed in a future release. Use jit instead.\n",
      "  warn('autojit is deprecated and will be removed in a future release. Use jit instead.')\n"
     ]
    }
   ],
   "source": [
    "import MyML.graph.mst as mst\n",
    "import MyML.graph.connected_components as ccomps"
   ]
  },
  {
   "cell_type": "markdown",
   "metadata": {},
   "source": [
    "## Get graph"
   ]
  },
  {
   "cell_type": "code",
   "execution_count": null,
   "metadata": {
    "collapsed": true
   },
   "outputs": [],
   "source": [
    "fullEAC._lifetime_clustering(coassoc, method='single')"
   ]
  },
  {
   "cell_type": "code",
   "execution_count": null,
   "metadata": {
    "collapsed": true
   },
   "outputs": [],
   "source": [
    "np.random.randint"
   ]
  }
 ],
 "metadata": {
  "kernelspec": {
   "display_name": "Python 2",
   "language": "python",
   "name": "python2"
  },
  "language_info": {
   "codemirror_mode": {
    "name": "ipython",
    "version": 2
   },
   "file_extension": ".py",
   "mimetype": "text/x-python",
   "name": "python",
   "nbconvert_exporter": "python",
   "pygments_lexer": "ipython2",
   "version": "2.7.10"
  }
 },
 "nbformat": 4,
 "nbformat_minor": 0
}
