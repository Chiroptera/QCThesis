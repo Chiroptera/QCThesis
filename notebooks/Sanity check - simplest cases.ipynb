{
 "cells": [
  {
   "cell_type": "markdown",
   "metadata": {},
   "source": [
    "author: Diogo Silva\n",
    "\n",
    "SKL = SciKit-Learn"
   ]
  },
  {
   "cell_type": "code",
   "execution_count": 1,
   "metadata": {
    "collapsed": false
   },
   "outputs": [
    {
     "name": "stdout",
     "output_type": "stream",
     "text": [
      "Populating the interactive namespace from numpy and matplotlib\n"
     ]
    }
   ],
   "source": [
    "%pylab inline"
   ]
  },
  {
   "cell_type": "code",
   "execution_count": 2,
   "metadata": {
    "collapsed": true
   },
   "outputs": [],
   "source": [
    "import seaborn as sbn"
   ]
  },
  {
   "cell_type": "code",
   "execution_count": 3,
   "metadata": {
    "collapsed": false
   },
   "outputs": [],
   "source": [
    "home = %env HOME"
   ]
  },
  {
   "cell_type": "code",
   "execution_count": 4,
   "metadata": {
    "collapsed": false
   },
   "outputs": [
    {
     "name": "stdout",
     "output_type": "stream",
     "text": [
      "/home/chiroptera/workspace/QCThesis\n"
     ]
    }
   ],
   "source": [
    "cd $home/QCThesis/"
   ]
  },
  {
   "cell_type": "code",
   "execution_count": 6,
   "metadata": {
    "collapsed": false
   },
   "outputs": [
    {
     "data": {
      "text/plain": [
       "<module 'MyML.metrics.accuracy' from 'MyML/metrics/accuracy.pyc'>"
      ]
     },
     "execution_count": 6,
     "metadata": {},
     "output_type": "execute_result"
    }
   ],
   "source": [
    "from sklearn.cluster import KMeans as KMeans_skl\n",
    "import MyML.cluster.eac as eac\n",
    "reload(eac)\n",
    "import MyML.cluster.K_Means3 as K_Means3\n",
    "reload(K_Means3)\n",
    "import MyML.metrics.accuracy as determine_ci\n",
    "reload(determine_ci)"
   ]
  },
  {
   "cell_type": "markdown",
   "metadata": {},
   "source": [
    "# Helper functions"
   ]
  },
  {
   "cell_type": "code",
   "execution_count": 7,
   "metadata": {
    "collapsed": true
   },
   "outputs": [],
   "source": [
    "def stat_my_kmeans(data,nclusters,gtruth,rounds=20):\n",
    "    nsamples=data.shape[0]\n",
    "    all_acc = list()\n",
    "    for r in xrange(rounds):\n",
    "        iters=\"converge\"\n",
    "        kmeans_mode=\"numpy\"\n",
    "\n",
    "        grouper = K_Means3.K_Means(nclusters=nclusters, iters=iters, mode=kmeans_mode, cuda_mem='manual',tol=1e-4,max_iters=300)\n",
    "        grouper._centroid_mode = \"index\"\n",
    "        grouper.fit(data)\n",
    "\n",
    "        ci=determine_ci.ConsistencyIndex(N=nsamples)\n",
    "        accuracy=ci.score(gtruth,grouper.labels_,format='array')\n",
    "        all_acc.append(accuracy)\n",
    "        \n",
    "        \n",
    "    return np.mean(all_acc),np.var(all_acc),np.max(all_acc),np.min(all_acc)\n",
    "    \n",
    "def stat_skl_kmeans(data,nclusters,gtruth,rounds=20,init='random'):\n",
    "    nsamples=data.shape[0]\n",
    "    all_acc = list()\n",
    "    for r in xrange(rounds):\n",
    "        iters=\"converge\"\n",
    "        kmeans_mode=\"numpy\"\n",
    "\n",
    "        gSKL = KMeans_skl(n_clusters=nclusters,n_init=1,init=init)\n",
    "        gSKL.fit(data)\n",
    "\n",
    "        ci=determine_ci.ConsistencyIndex(N=nsamples)\n",
    "        accuracy=ci.score(gtruth,gSKL.labels_,format='array')\n",
    "        all_acc.append(accuracy)\n",
    "        \n",
    "        \n",
    "    return np.mean(all_acc),np.var(all_acc),np.max(all_acc),np.min(all_acc)"
   ]
  },
  {
   "cell_type": "code",
   "execution_count": 8,
   "metadata": {
    "collapsed": false
   },
   "outputs": [],
   "source": [
    "def k_analysis(partition_files,ground_truth,nprots,iters=\"converge\",rounds=20,files=True):\n",
    "    nsamples=data.shape[0]\n",
    "    all_acc = list()\n",
    "    \n",
    "    for r in xrange(rounds):\n",
    "        prot_mode=\"random\"\n",
    "\n",
    "        estimator=eac.EAC(nsamples)\n",
    "        estimator.fit(partition_files,files=files,assoc_mode='prot', prot_mode=prot_mode, nprot=nprots,build_only=True)\n",
    "\n",
    "        kmeans_mode = \"numpy\"\n",
    "        nclusters = np.unique(ground_truth).shape[0]\n",
    "\n",
    "        grouper = K_Means3.K_Means(nclusters=nclusters, iters=iters, mode=kmeans_mode, cuda_mem='manual',tol=1e-4,max_iters=300)\n",
    "        grouper._centroid_mode = \"index\"\n",
    "        grouper.fit(estimator._coassoc)\n",
    "\n",
    "        ci=determine_ci.ConsistencyIndex(N=nsamples)\n",
    "        accuracy=ci.score(ground_truth,grouper.labels_,format='array')\n",
    "        all_acc.append(accuracy)\n",
    "    return np.mean(all_acc),np.var(all_acc),np.max(all_acc),np.min(all_acc)\n",
    "\n",
    "def k_skl_analysis(partition_files,ground_truth,nprots,rounds=20,files=True):\n",
    "    nsamples=data.shape[0]\n",
    "    all_acc = list()\n",
    "    \n",
    "    for r in xrange(rounds):\n",
    "        prot_mode=\"random\"\n",
    "\n",
    "        estimator=eac.EAC(nsamples)\n",
    "        estimator.fit(partition_files,files=files,assoc_mode='prot', prot_mode=prot_mode, nprot=nprots,build_only=True)\n",
    "\n",
    "        kmeans_mode = \"numpy\"\n",
    "        nclusters = np.unique(ground_truth).shape[0]\n",
    "\n",
    "\n",
    "        grouper = KMeans_skl(n_clusters=nclusters,n_init=1,init=\"random\")\n",
    "        grouper.fit(estimator._coassoc)\n",
    "        \n",
    "        ci=determine_ci.ConsistencyIndex(N=nsamples)\n",
    "        accuracy=ci.score(ground_truth,grouper.labels_,format='array')\n",
    "        all_acc.append(accuracy)\n",
    "    return np.mean(all_acc),np.var(all_acc),np.max(all_acc),np.min(all_acc)"
   ]
  },
  {
   "cell_type": "markdown",
   "metadata": {},
   "source": [
    "# Generate data"
   ]
  },
  {
   "cell_type": "code",
   "execution_count": 9,
   "metadata": {
    "collapsed": false
   },
   "outputs": [
    {
     "data": {
      "text/plain": [
       "[<matplotlib.lines.Line2D at 0x7ffd8519a910>]"
      ]
     },
     "execution_count": 9,
     "metadata": {},
     "output_type": "execute_result"
    },
    {
     "data": {
      "image/png": "[encoded data removed]",
      "text/plain": [
       "<matplotlib.figure.Figure at 0x7ffd879b3e50>"
      ]
     },
     "metadata": {},
     "output_type": "display_data"
    }
   ],
   "source": [
    "center1=(0,0)\n",
    "center2=(10,10)\n",
    "\n",
    "cov1=1\n",
    "cov2=1\n",
    "\n",
    "n1=100\n",
    "n2=100\n",
    "nsamples=n1+n2\n",
    "dim=2\n",
    "\n",
    "g1 = np.random.normal(loc=center1,scale=cov1,size=(n1,dim))\n",
    "g2 = np.random.normal(loc=center2,scale=cov2,size=(n2,dim))\n",
    "\n",
    "data = np.vstack((g1,g2))\n",
    "gt=np.zeros(data.shape[0],dtype=np.int32)\n",
    "gt[100:]=1\n",
    "\n",
    "figData=plt.figure()\n",
    "plt.plot(g1[:,0],g1[:,1],'.')\n",
    "plt.plot(g2[:,0],g2[:,1],'.')"
   ]
  },
  {
   "cell_type": "markdown",
   "metadata": {},
   "source": [
    "# EAC"
   ]
  },
  {
   "cell_type": "code",
   "execution_count": 10,
   "metadata": {
    "collapsed": true
   },
   "outputs": [],
   "source": [
    "def formatPartition(partition):\n",
    "    nclusters=np.unique(partition).shape[0]\n",
    "    finalPartition=[list() for x in xrange(nclusters)]\n",
    "    for n,c in partition:\n",
    "        finalPartition[c].append(n)\n",
    "        \n",
    "    return finalPartition\n",
    "\n",
    "def generatePartitions(data,npartitions,nclusters,iters=3):\n",
    "    \n",
    "    if type(nclusters) is list():\n",
    "        clusterRange = True\n",
    "        min_ncluster=nclusters[0]\n",
    "        max_ncluster=nclusters[1]\n",
    "    else:\n",
    "        clusterRange = False\n",
    "        k = nclusters\n",
    "        \n",
    "    partitions = list()\n",
    "    \n",
    "    mode = \"numpy\"\n",
    "    for p in xrange(npartitions):\n",
    "        if clusterRange:\n",
    "            k = np.random.randint(min_ncluster,max_ncluster)\n",
    "        \n",
    "        grouper = K_Means3.K_Means(nclusters=k, iters=iters, mode=mode, cuda_mem='manual',tol=1e-4,max_iters=300)\n",
    "        grouper._centroid_mode = \"index\"\n",
    "        grouper.fit(data)\n",
    "        partitions.append(grouper.partition)\n",
    "        \n",
    "    return partitions\n",
    "        \n",
    "def generatePartitionsSKL(data,npartitions,nclusters,iters=3):\n",
    "    \n",
    "    if type(nclusters) is list():\n",
    "        clusterRange = True\n",
    "        min_ncluster=nclusters[0]\n",
    "        max_ncluster=nclusters[1]\n",
    "    else:\n",
    "        clusterRange = False\n",
    "        k = nclusters\n",
    "        \n",
    "    partitions = list()\n",
    "    \n",
    "    mode = \"numpy\"\n",
    "    for p in xrange(npartitions):\n",
    "        if clusterRange:\n",
    "            k = np.random.randint(min_ncluster,max_ncluster)\n",
    "        \n",
    "        gSKL = KMeans_skl(n_clusters=k,n_init=1,init=\"random\",max_iter=iters)\n",
    "        gSKL.fit(data)\n",
    "        partitions.append(formatPartition(gSKL.labels_))\n",
    "        \n",
    "    return partitions\n",
    "    "
   ]
  },
  {
   "cell_type": "markdown",
   "metadata": {},
   "source": [
    "## Partitions with 10 clusters"
   ]
  },
  {
   "cell_type": "code",
   "execution_count": 11,
   "metadata": {
    "collapsed": false
   },
   "outputs": [
    {
     "name": "stdout",
     "output_type": "stream",
     "text": [
      "All partitions have good number of clusters.\n"
     ]
    }
   ],
   "source": [
    "npartitions=30\n",
    "nclusters=10\n",
    "iters=3\n",
    "\n",
    "partitions_my = generatePartitions(data=data,npartitions=npartitions,nclusters=nclusters,iters=iters)\n",
    "partitions_skl = generatePartitions(data=data,npartitions=npartitions,nclusters=nclusters,iters=iters)\n",
    "\n",
    "allGood=True\n",
    "for p in xrange(npartitions):\n",
    "    if len(partitions_my[p]) != nclusters:\n",
    "        print 'partition {} of partitions_my has different number of clusters:{}'.format(p,len(partitions_my[p]))\n",
    "        allGood=False\n",
    "    if len(partitions_skl[p]) != nclusters:\n",
    "        print 'partition {} of partitions_my has different number of clusters:{}'.format(p,len(partitions_skl[p]))\n",
    "        allGood=False\n",
    "if allGood:\n",
    "    print 'All partitions have good number of clusters.'"
   ]
  },
  {
   "cell_type": "markdown",
   "metadata": {},
   "source": [
    "### Visualizing some partitions"
   ]
  },
  {
   "cell_type": "code",
   "execution_count": 12,
   "metadata": {
    "collapsed": false
   },
   "outputs": [
    {
     "data": {
      "text/plain": [
       "<matplotlib.text.Text at 0x7ffd879b3790>"
      ]
     },
     "execution_count": 12,
     "metadata": {},
     "output_type": "execute_result"
    },
    {
     "data": {
      "image/png": "[encoded data removed]",
      "text/plain": [
       "<matplotlib.figure.Figure at 0x7ffd85212450>"
      ]
     },
     "metadata": {},
     "output_type": "display_data"
    }
   ],
   "source": [
    "figEnsemble=plt.figure(figsize=(16,12))\n",
    "ax1En=figEnsemble.add_subplot(2,2,1)\n",
    "ax2En=figEnsemble.add_subplot(2,2,2)\n",
    "ax3En=figEnsemble.add_subplot(2,2,3)\n",
    "ax4En=figEnsemble.add_subplot(2,2,4)\n",
    "\n",
    "for c in partitions_my[0]:\n",
    "    ax1En.plot(data[c,0],data[c,1],'.')\n",
    "ax1En.set_title(\"Sample of one partition generated with my K-Means\")\n",
    "\n",
    "for c in partitions_my[1]:\n",
    "    ax2En.plot(data[c,0],data[c,1],'.')\n",
    "ax2En.set_title(\"Sample of one partition generated with my K-Means\")\n",
    "\n",
    "for c in partitions_skl[0]:\n",
    "    ax3En.plot(data[c,0],data[c,1],'.')\n",
    "ax3En.set_title(\"Sample of one partition generated with SKL's K-Means\")\n",
    "\n",
    "for c in partitions_skl[1]:\n",
    "    ax4En.plot(data[c,0],data[c,1],'.')\n",
    "ax4En.set_title(\"Sample of one partition generated with SKL's K-Means\")"
   ]
  },
  {
   "cell_type": "markdown",
   "metadata": {},
   "source": [
    "## Clustering"
   ]
  },
  {
   "cell_type": "code",
   "execution_count": 13,
   "metadata": {
    "collapsed": false
   },
   "outputs": [
    {
     "name": "stdout",
     "output_type": "stream",
     "text": [
      "My Accuracy:\t0.88\n",
      "SKL Accuracy:\t1.0\n"
     ]
    },
    {
     "name": "stderr",
     "output_type": "stream",
     "text": [
      "MyML/helper/partition.py:56: FutureWarning: comparison to `None` will result in an elementwise object comparison in the future.\n",
      "  if clusts == None:\n"
     ]
    },
    {
     "data": {
      "text/plain": [
       "<matplotlib.text.Text at 0x7ffd854fa2d0>"
      ]
     },
     "execution_count": 13,
     "metadata": {},
     "output_type": "execute_result"
    },
    {
     "data": {
      "image/png": "[encoded data removed]",
      "text/plain": [
       "<matplotlib.figure.Figure at 0x7ffd85284a50>"
      ]
     },
     "metadata": {},
     "output_type": "display_data"
    }
   ],
   "source": [
    "# generate coassoc\n",
    "prot_mode=\"random\"\n",
    "assoc_mode='prot' # prot or full\n",
    "nprots=nsamples # number of prototypes\n",
    "\n",
    "myEstimator=eac.EAC(nsamples)\n",
    "myEstimator.fit(partitions_my,files=False,assoc_mode=assoc_mode, prot_mode=prot_mode, nprot=nprots,build_only=True)\n",
    "\n",
    "sklEstimator=eac.EAC(nsamples)\n",
    "sklEstimator.fit(partitions_skl,files=False,assoc_mode=assoc_mode, prot_mode=prot_mode, nprot=nprots,build_only=True)\n",
    "\n",
    "# final clustering with the true number of clusters\n",
    "true_nclusters = np.unique(gt).shape[0]\n",
    "\n",
    "# cluster with my K-Means\n",
    "kmeans_mode = \"numpy\"\n",
    "\n",
    "grouper = K_Means3.K_Means(nclusters=true_nclusters, iters=\"converge\", mode=kmeans_mode, cuda_mem='manual',tol=1e-4,max_iters=300)\n",
    "grouper._centroid_mode = \"index\"\n",
    "grouper.fit(myEstimator._coassoc)\n",
    "\n",
    "# cluster with SKL K-Means\n",
    "gSKL = KMeans_skl(n_clusters=true_nclusters,n_init=1,init=\"random\")\n",
    "gSKL.fit(sklEstimator._coassoc)\n",
    "\n",
    "# Hungarian accuracy\n",
    "myAcc = determine_ci.HungarianIndex(nsamples=nsamples)\n",
    "myAcc.score(gt,grouper.labels_,format='array')\n",
    "\n",
    "sklAcc = determine_ci.HungarianIndex(nsamples=nsamples)\n",
    "sklAcc.score(gt,gSKL.labels_,format='array')\n",
    "\n",
    "\n",
    "print 'My Accuracy:\\t',myAcc.accuracy\n",
    "print 'SKL Accuracy:\\t',sklAcc.accuracy\n",
    "\n",
    "figEAC=plt.figure(figsize=(16,6))\n",
    "ax1EAC=figEAC.add_subplot(1,2,1)\n",
    "ax2EAC=figEAC.add_subplot(1,2,2)\n",
    "\n",
    "for c in np.unique(grouper.labels_):\n",
    "    clusterData=grouper.labels_==c\n",
    "    ax1EAC.plot(data[clusterData,0],data[clusterData,1],'.')\n",
    "ax1EAC.set_title(\"Final EAC partition with my K-Means\")\n",
    "\n",
    "for c in np.unique(gSKL.labels_):\n",
    "    clusterData=gSKL.labels_==c\n",
    "    ax2EAC.plot(data[clusterData,0],data[clusterData,1],'.')\n",
    "ax2EAC.set_title(\"Final EAC partition with SKL's K-Means\")"
   ]
  },
  {
   "cell_type": "markdown",
   "metadata": {},
   "source": [
    "Accuracy is usually 100% in both cases (clustering from my K-Means and SciKit-Learn's). This depends on the ensemble. For some ensembles the accuracy on both is always one, for others it sometimes is not in one or both of the K-Means used (mine vs SKL).\n",
    "\n",
    "The number of prototypes is equal to the number of samples and since there are not repeated prototypes, all the samples are being used. Above are the visualizations of the solutions. "
   ]
  },
  {
   "cell_type": "code",
   "execution_count": 14,
   "metadata": {
    "collapsed": false
   },
   "outputs": [
    {
     "name": "stdout",
     "output_type": "stream",
     "text": [
      "My coassoc\n",
      "[[  0.   2.   2. ...,   0.  22.   1.]\n",
      " [  0.   0.   0. ...,   0.  28.   0.]\n",
      " [  0.  21.  21. ...,   0.   0.  21.]\n",
      " ..., \n",
      " [  6.   0.   0. ...,  20.   0.   0.]\n",
      " [  1.   0.   0. ...,   4.   0.   0.]\n",
      " [ 16.   0.   0. ...,   4.   0.   0.]]\n",
      "\n",
      "SKL coassoc\n",
      "[[  0.   0.  24. ...,   0.  24.  17.]\n",
      " [  0.   0.  13. ...,   0.  17.  22.]\n",
      " [  0.   0.   5. ...,   0.   5.   1.]\n",
      " ..., \n",
      " [  2.   4.   0. ...,  15.   0.   0.]\n",
      " [  1.   2.   0. ...,  12.   0.   0.]\n",
      " [  0.  10.   0. ...,   2.   0.   0.]]\n"
     ]
    }
   ],
   "source": [
    "print \"My coassoc\"\n",
    "print myEstimator._coassoc\n",
    "print \"\\nSKL coassoc\"\n",
    "print sklEstimator._coassoc"
   ]
  },
  {
   "cell_type": "markdown",
   "metadata": {},
   "source": [
    "## Statistic analysis"
   ]
  },
  {
   "cell_type": "code",
   "execution_count": 15,
   "metadata": {
    "collapsed": false
   },
   "outputs": [
    {
     "name": "stdout",
     "output_type": "stream",
     "text": [
      "type\tmean\tvar\tmax\tmin\n",
      "skl \t0.9636\t0.00813904\t1.0\t0.74\t\n",
      "my  \t0.90225\t0.0121151875\t1.0\t0.645\t"
     ]
    }
   ],
   "source": [
    "stat_nprots=nsamples\n",
    "print \"{}\\t{}\\t{}\\t{}\\t{}\".format(\"type\",\"mean\",\"var\",\"max\",\"min\")\n",
    "print \"skl \\t\",\n",
    "for metric in k_skl_analysis(partitions_skl,files=False,ground_truth=gt,nprots=stat_nprots,rounds=100):\n",
    "    print \"{}\\t\".format(metric),\n",
    "print \"\\nmy  \\t\",\n",
    "for metric in k_analysis(partitions_my,files=False,ground_truth=gt,nprots=stat_nprots,iters=\"converge\",rounds=100):\n",
    "    print \"{}\\t\".format(metric),\n"
   ]
  },
  {
   "cell_type": "code",
   "execution_count": 16,
   "metadata": {
    "collapsed": false
   },
   "outputs": [
    {
     "data": {
      "text/plain": [
       "<matplotlib.legend.Legend at 0x7ffd84d20d90>"
      ]
     },
     "execution_count": 16,
     "metadata": {},
     "output_type": "execute_result"
    },
    {
     "data": {
      "image/png": "[encoded data removed]",
      "text/plain": [
       "<matplotlib.figure.Figure at 0x7ffd851fbe10>"
      ]
     },
     "metadata": {},
     "output_type": "display_data"
    }
   ],
   "source": [
    "nprots=[5,20,40,60,80,100,120,140,160,180,200]\n",
    "results_k10=list()\n",
    "for n in nprots:\n",
    "    r=k_skl_analysis(partitions_skl,files=False,ground_truth=gt,nprots=stat_nprots,rounds=100)\n",
    "    results_k10.append(r)\n",
    "    \n",
    "mean_k10=[res[0] for res in results_k10]\n",
    "var_k10=[res[1] for res in results_k10]\n",
    "best_k10=[res[2] for res in results_k10]\n",
    "worst_k10=[res[3] for res in results_k10]\n",
    "\n",
    "plt.plot(mean_k10,label='mean')\n",
    "plt.plot(best_k10,label='best')\n",
    "plt.plot(worst_k10,label='worst')\n",
    "plt.plot([0, 10], [0.5, 0.5], 'k-', lw=1)\n",
    "plt.title(\"Analysis of the influence of the number of prototypes\")\n",
    "plt.legend(loc='best')"
   ]
  },
  {
   "cell_type": "markdown",
   "metadata": {},
   "source": [
    "## 6 clusters per partition"
   ]
  },
  {
   "cell_type": "code",
   "execution_count": 18,
   "metadata": {
    "collapsed": false
   },
   "outputs": [
    {
     "name": "stdout",
     "output_type": "stream",
     "text": [
      "All partitions have good number of clusters.\n",
      "My Accuracy:\t1.0\n",
      "SKL Accuracy:\t1.0\n",
      "\n",
      "Statistical analysis\n",
      "type\tmean\tvar\tmax\tmin\n",
      "skl \t1.0\t0.0\t1.0\t1.0\t\n",
      "my  \t1.0\t0.0\t1.0\t1.0\t"
     ]
    },
    {
     "data": {
      "image/png": "[encoded data removed]",
      "text/plain": [
       "<matplotlib.figure.Figure at 0x7ffd84282a90>"
      ]
     },
     "metadata": {},
     "output_type": "display_data"
    }
   ],
   "source": [
    "npartitions=30\n",
    "nclusters=6\n",
    "iters=3\n",
    "\n",
    "partitions_my = generatePartitions(data=data,npartitions=npartitions,nclusters=nclusters,iters=iters)\n",
    "partitions_skl = generatePartitions(data=data,npartitions=npartitions,nclusters=nclusters,iters=iters)\n",
    "\n",
    "allGood=True\n",
    "for p in xrange(npartitions):\n",
    "    if len(partitions_my[p]) != nclusters:\n",
    "        print 'partition {} of partitions_my has different number of clusters:{}'.format(p,len(partitions_my[p]))\n",
    "        allGood=False\n",
    "    if len(partitions_skl[p]) != nclusters:\n",
    "        print 'partition {} of partitions_my has different number of clusters:{}'.format(p,len(partitions_skl[p]))\n",
    "        allGood=False\n",
    "if allGood:\n",
    "    print 'All partitions have good number of clusters.'\n",
    "    \n",
    "\n",
    "# generate coassoc\n",
    "prot_mode=\"random\"\n",
    "assoc_mode='prot' # prot or full\n",
    "nprots=nsamples # number of prototypes\n",
    "\n",
    "myEstimator=eac.EAC(nsamples)\n",
    "myEstimator.fit(partitions_my,files=False,assoc_mode=assoc_mode, prot_mode=prot_mode, nprot=nprots,build_only=True)\n",
    "\n",
    "sklEstimator=eac.EAC(nsamples)\n",
    "sklEstimator.fit(partitions_skl,files=False,assoc_mode=assoc_mode, prot_mode=prot_mode, nprot=nprots,build_only=True)\n",
    "\n",
    "# final clustering with the true number of clusters\n",
    "true_nclusters = np.unique(gt).shape[0]\n",
    "\n",
    "# cluster with my K-Means\n",
    "kmeans_mode = \"numpy\"\n",
    "\n",
    "grouper = K_Means3.K_Means(nclusters=true_nclusters, iters=\"converge\", mode=kmeans_mode, cuda_mem='manual',tol=1e-4,max_iters=300)\n",
    "grouper._centroid_mode = \"index\"\n",
    "grouper.fit(myEstimator._coassoc)\n",
    "\n",
    "# cluster with SKL K-Means\n",
    "gSKL = KMeans_skl(n_clusters=true_nclusters,n_init=1,init=\"random\")\n",
    "gSKL.fit(sklEstimator._coassoc)\n",
    "\n",
    "# Hungarian accuracy\n",
    "myAcc = determine_ci.HungarianIndex(nsamples=nsamples)\n",
    "myAcc.score(gt,grouper.labels_,format='array')\n",
    "\n",
    "sklAcc = determine_ci.HungarianIndex(nsamples=nsamples)\n",
    "sklAcc.score(gt,gSKL.labels_,format='array')\n",
    "\n",
    "\n",
    "print 'My Accuracy:\\t',myAcc.accuracy\n",
    "print 'SKL Accuracy:\\t',sklAcc.accuracy\n",
    "\n",
    "figEAC2=plt.figure(figsize=(16,12))\n",
    "ax1EAC2=figEAC2.add_subplot(2,2,1)\n",
    "ax2EAC2=figEAC2.add_subplot(2,2,2)\n",
    "ax3EAC2=figEAC2.add_subplot(2,2,3)\n",
    "\n",
    "for c in np.unique(grouper.labels_):\n",
    "    clusterData=grouper.labels_==c\n",
    "    ax1EAC2.plot(data[clusterData,0],data[clusterData,1],'.')\n",
    "ax1EAC2.set_title(\"Final EAC partition with my K-Means\")\n",
    "\n",
    "for c in np.unique(gSKL.labels_):\n",
    "    clusterData=gSKL.labels_==c\n",
    "    ax2EAC2.plot(data[clusterData,0],data[clusterData,1],'.')\n",
    "ax2EAC2.set_title(\"Final EAC partition with SKL's K-Means\")\n",
    "\n",
    "nprots=[5,20,40,60,80,100,120,140,160,180,200]\n",
    "results_k6=list()\n",
    "for n in nprots:\n",
    "    r=k_skl_analysis(partitions_skl,files=False,ground_truth=gt,nprots=stat_nprots,rounds=100)\n",
    "    results_k6.append(r)\n",
    "    \n",
    "mean_k6=[res[0] for res in results_k6]\n",
    "var_k6=[res[1] for res in results_k6]\n",
    "best_k6=[res[2] for res in results_k6]\n",
    "worst_k6=[res[3] for res in results_k6]\n",
    "\n",
    "ax3EAC2.plot(mean_k6)\n",
    "ax3EAC2.plot(best_k6)\n",
    "ax3EAC2.plot(worst_k6)\n",
    "ax3EAC2.plot([0, 10], [0.5, 0.5], 'k-', lw=1)\n",
    "ax3EAC2.set_title(\"Analysis of the influence of the number of prototypes\")\n",
    "\n",
    "print \"\\nStatistical analysis\"\n",
    "stat_nprots=nsamples\n",
    "print \"{}\\t{}\\t{}\\t{}\\t{}\".format(\"type\",\"mean\",\"var\",\"max\",\"min\")\n",
    "print \"skl \\t\",\n",
    "for metric in k_skl_analysis(partitions_my,files=False,ground_truth=gt,nprots=stat_nprots,rounds=100):\n",
    "    print \"{}\\t\".format(metric),\n",
    "print \"\\nmy  \\t\",\n",
    "for metric in k_analysis(partitions_my,files=False,ground_truth=gt,nprots=stat_nprots,iters=\"converge\",rounds=100):\n",
    "    print \"{}\\t\".format(metric),"
   ]
  },
  {
   "cell_type": "markdown",
   "metadata": {},
   "source": [
    "# K-Means only"
   ]
  },
  {
   "cell_type": "code",
   "execution_count": null,
   "metadata": {
    "collapsed": false
   },
   "outputs": [],
   "source": [
    "stat_nprots=nsamples\n",
    "print \"{}\\t{}\\t{}\\t{}\\t{}\".format(\"type\",\"mean\",\"var\",\"max\",\"min\")\n",
    "print \"my  \\t\",\n",
    "for metric in stat_my_kmeans(data,true_nclusters,gt,rounds=100):\n",
    "    print \"{}\\t\".format(metric),\n",
    "print \"\\nskl \\t\",\n",
    "for metric in stat_skl_kmeans(data,true_nclusters,gt,rounds=100):\n",
    "    print \"{}\\t\".format(metric),"
   ]
  },
  {
   "cell_type": "markdown",
   "metadata": {},
   "source": [
    "# K-Medoids"
   ]
  },
  {
   "cell_type": "code",
   "execution_count": 19,
   "metadata": {
    "collapsed": false
   },
   "outputs": [
    {
     "name": "stdout",
     "output_type": "stream",
     "text": [
      "All partitions have good number of clusters.\n",
      "My Accuracy:\t1.0\n",
      "SKL Accuracy:\t0.73\n",
      "\n",
      "Statistical analysis\n",
      "type\tmean\tvar\tmax\tmin\n",
      "skl \t0.771\t0.013322\t1.0\t0.565\t"
     ]
    },
    {
     "data": {
      "image/png": "[encoded data removed]",
      "text/plain": [
       "<matplotlib.figure.Figure at 0x7ffd84047b10>"
      ]
     },
     "metadata": {},
     "output_type": "display_data"
    }
   ],
   "source": [
    "npartitions=30\n",
    "nclusters=20\n",
    "iters=3\n",
    "\n",
    "partitions_my = generatePartitions(data=data,npartitions=npartitions,nclusters=nclusters,iters=iters)\n",
    "partitions_skl = generatePartitions(data=data,npartitions=npartitions,nclusters=nclusters,iters=iters)\n",
    "\n",
    "allGood=True\n",
    "for p in xrange(npartitions):\n",
    "    if len(partitions_my[p]) != nclusters:\n",
    "        print 'partition {} of partitions_my has different number of clusters:{}'.format(p,len(partitions_my[p]))\n",
    "        allGood=False\n",
    "    if len(partitions_skl[p]) != nclusters:\n",
    "        print 'partition {} of partitions_my has different number of clusters:{}'.format(p,len(partitions_skl[p]))\n",
    "        allGood=False\n",
    "if allGood:\n",
    "    print 'All partitions have good number of clusters.'\n",
    "    \n",
    "\n",
    "# generate coassoc\n",
    "prot_mode=\"random\"\n",
    "assoc_mode='prot' # prot or full\n",
    "nprots=nsamples # number of prototypes\n",
    "\n",
    "myEstimator=eac.EAC(nsamples)\n",
    "myEstimator.fit(partitions_my,files=False,assoc_mode=assoc_mode, prot_mode=prot_mode, nprot=nprots,build_only=True)\n",
    "\n",
    "sklEstimator=eac.EAC(nsamples)\n",
    "sklEstimator.fit(partitions_skl,files=False,assoc_mode=assoc_mode, prot_mode=prot_mode, nprot=nprots,build_only=True)\n",
    "\n",
    "# final clustering with the true number of clusters\n",
    "true_nclusters = np.unique(gt).shape[0]\n",
    "\n",
    "# cluster with SKL K-Means\n",
    "gSKL = KMeans_skl(n_clusters=true_nclusters,n_init=1,init=\"random\")\n",
    "gSKL.fit(sklEstimator._coassoc)\n",
    "\n",
    "# Hungarian accuracy\n",
    "myAcc = determine_ci.HungarianIndex(nsamples=nsamples)\n",
    "myAcc.score(gt,grouper.labels_,format='array')\n",
    "\n",
    "sklAcc = determine_ci.HungarianIndex(nsamples=nsamples)\n",
    "sklAcc.score(gt,gSKL.labels_,format='array')\n",
    "\n",
    "\n",
    "print 'My Accuracy:\\t',myAcc.accuracy\n",
    "print 'SKL Accuracy:\\t',sklAcc.accuracy\n",
    "\n",
    "figEAC2=plt.figure(figsize=(16,12))\n",
    "ax1EAC2=figEAC2.add_subplot(2,2,1)\n",
    "ax2EAC2=figEAC2.add_subplot(2,2,2)\n",
    "ax3EAC2=figEAC2.add_subplot(2,2,3)\n",
    "\n",
    "for c in np.unique(gSKL.labels_):\n",
    "    clusterData=gSKL.labels_==c\n",
    "    ax2EAC2.plot(data[clusterData,0],data[clusterData,1],'.')\n",
    "ax2EAC2.set_title(\"Final EAC partition with SKL's K-Means\")\n",
    "\n",
    "nprots=[5,20,40,60,80,100,120,140,160,180,200]\n",
    "results_k6=list()\n",
    "for n in nprots:\n",
    "    r=k_skl_analysis(partitions_skl,files=False,ground_truth=gt,nprots=stat_nprots,rounds=100)\n",
    "    results_k6.append(r)\n",
    "    \n",
    "mean_k6=[res[0] for res in results_k6]\n",
    "var_k6=[res[1] for res in results_k6]\n",
    "best_k6=[res[2] for res in results_k6]\n",
    "worst_k6=[res[3] for res in results_k6]\n",
    "\n",
    "ax3EAC2.plot(mean_k6)\n",
    "ax3EAC2.plot(best_k6)\n",
    "ax3EAC2.plot(worst_k6)\n",
    "ax3EAC2.plot([0, 10], [0.5, 0.5], 'k-', lw=1)\n",
    "ax3EAC2.set_title(\"Analysis of the influence of the number of prototypes\")\n",
    "\n",
    "print \"\\nStatistical analysis\"\n",
    "stat_nprots=nsamples\n",
    "print \"{}\\t{}\\t{}\\t{}\\t{}\".format(\"type\",\"mean\",\"var\",\"max\",\"min\")\n",
    "print \"skl \\t\",\n",
    "for metric in k_skl_analysis(partitions_my,files=False,ground_truth=gt,nprots=stat_nprots,rounds=100):\n",
    "    print \"{}\\t\".format(metric),"
   ]
  }
 ],
 "metadata": {
  "kernelspec": {
   "display_name": "Python 2",
   "language": "python",
   "name": "python2"
  },
  "language_info": {
   "codemirror_mode": {
    "name": "ipython",
    "version": 2
   },
   "file_extension": ".py",
   "mimetype": "text/x-python",
   "name": "python",
   "nbconvert_exporter": "python",
   "pygments_lexer": "ipython2",
   "version": "2.7.9"
  }
 },
 "nbformat": 4,
 "nbformat_minor": 0
}
