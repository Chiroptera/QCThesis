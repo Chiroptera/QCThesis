{
 "cells": [
  {
   "cell_type": "code",
   "execution_count": 10,
   "metadata": {
    "collapsed": false
   },
   "outputs": [],
   "source": [
    "import numpy as np\n",
    "import MyML.helper.partition as myPart\n",
    "import MyML.cluster.K_Means3 as myKM\n",
    "import MyML.utils.sparse as mySparse\n",
    "import MyML.cluster.eac as eac"
   ]
  },
  {
   "cell_type": "code",
   "execution_count": 6,
   "metadata": {
    "collapsed": false
   },
   "outputs": [],
   "source": [
    "from sklearn.datasets import make_blobs"
   ]
  },
  {
   "cell_type": "code",
   "execution_count": 29,
   "metadata": {
    "collapsed": false
   },
   "outputs": [],
   "source": [
    "data,gt = make_blobs(n_samples=5000, n_features=2, centers=6)\n",
    "data = data.astype(np.float32)\n",
    "n_samples = data.shape[0]"
   ]
  },
  {
   "cell_type": "code",
   "execution_count": 19,
   "metadata": {
    "collapsed": true
   },
   "outputs": [],
   "source": [
    "generator = myKM.K_Means(cuda_mem=\"manual\")\n",
    "generator._MAX_THREADS_BLOCK = 256"
   ]
  },
  {
   "cell_type": "code",
   "execution_count": 20,
   "metadata": {
    "collapsed": true
   },
   "outputs": [],
   "source": [
    "sqrt_rule = lambda n: map(int, map(np.ceil, [np.sqrt(n) / 2, np.sqrt(n)]))\n",
    "n_clusters = sqrt_rule(data.shape[0])"
   ]
  },
  {
   "cell_type": "code",
   "execution_count": 22,
   "metadata": {
    "collapsed": false
   },
   "outputs": [
    {
     "name": "stdout",
     "output_type": "stream",
     "text": [
      "CPU times: user 1.8 s, sys: 140 ms, total: 1.94 s\n",
      "Wall time: 1.94 s\n"
     ]
    }
   ],
   "source": [
    "%time ensemble = myPart.generateEnsemble(data, generator, n_clusters, npartitions=100)"
   ]
  },
  {
   "cell_type": "code",
   "execution_count": 28,
   "metadata": {
    "collapsed": false
   },
   "outputs": [],
   "source": [
    "bgs = mySparse._compute_max_assocs_from_ensemble(ensemble)\n",
    "max_assocs = bgs * 3"
   ]
  },
  {
   "cell_type": "code",
   "execution_count": 39,
   "metadata": {
    "collapsed": false
   },
   "outputs": [
    {
     "name": "stdout",
     "output_type": "stream",
     "text": [
      "CPU times: user 14.7 s, sys: 14.6 ms, total: 14.7 s\n",
      "Wall time: 14.7 s\n",
      "CPU times: user 193 ms, sys: 3.92 ms, total: 196 ms\n",
      "Wall time: 196 ms\n"
     ]
    }
   ],
   "source": [
    "mat0 = mySparse.EAC_CSR(n_samples=n_samples, max_assocs=max_assocs)\n",
    "%time mat0._update_ensemble(ensemble)\n",
    "%time mat0._condense()"
   ]
  },
  {
   "cell_type": "code",
   "execution_count": 40,
   "metadata": {
    "collapsed": false
   },
   "outputs": [
    {
     "name": "stdout",
     "output_type": "stream",
     "text": [
      "CPU times: user 6.85 s, sys: 76.1 ms, total: 6.92 s\n",
      "Wall time: 6.9 s\n",
      "CPU times: user 12.5 ms, sys: 11 µs, total: 12.5 ms\n",
      "Wall time: 12.6 ms\n"
     ]
    }
   ],
   "source": [
    "mat1 = mySparse.EAC_CSR(n_samples=n_samples, max_assocs=max_assocs)\n",
    "mat1.sort_mode = \"online\"\n",
    "mat1.update_cluster_function = mySparse.update_cluster_sorted\n",
    "%time mat1._update_ensemble(ensemble)\n",
    "%time mat1._condense()"
   ]
  },
  {
   "cell_type": "code",
   "execution_count": 41,
   "metadata": {
    "collapsed": false
   },
   "outputs": [
    {
     "name": "stdout",
     "output_type": "stream",
     "text": [
      "CPU times: user 6.39 s, sys: 19.8 ms, total: 6.41 s\n",
      "Wall time: 6.39 s\n",
      "CPU times: user 12.3 ms, sys: 4 µs, total: 12.3 ms\n",
      "Wall time: 12.3 ms\n"
     ]
    }
   ],
   "source": [
    "mat2 = mySparse.EAC_CSR(n_samples=n_samples, max_assocs=max_assocs)\n",
    "mat2.sort_mode = \"online\"\n",
    "mat2.update_cluster_function = mySparse.update_cluster_sorted_simple\n",
    "%time mat2._update_ensemble(ensemble)\n",
    "%time mat2._condense()"
   ]
  },
  {
   "cell_type": "code",
   "execution_count": 42,
   "metadata": {
    "collapsed": false
   },
   "outputs": [
    {
     "name": "stdout",
     "output_type": "stream",
     "text": [
      "CPU times: user 6.31 s, sys: 35.6 ms, total: 6.35 s\n",
      "Wall time: 6.33 s\n",
      "CPU times: user 46.6 ms, sys: 0 ns, total: 46.6 ms\n",
      "Wall time: 46.6 ms\n"
     ]
    }
   ],
   "source": [
    "mat3 = mySparse.EAC_CSR(n_samples=n_samples, max_assocs=max_assocs)\n",
    "mat3.sort_mode = \"online\"\n",
    "mat3.update_cluster_function = mySparse.update_cluster_sorted_surgical\n",
    "%time mat3._update_ensemble(ensemble)\n",
    "%time mat3._condense()"
   ]
  },
  {
   "cell_type": "code",
   "execution_count": 60,
   "metadata": {
    "collapsed": false
   },
   "outputs": [
    {
     "name": "stdout",
     "output_type": "stream",
     "text": [
      "CPU times: user 859 ms, sys: 12.1 ms, total: 871 ms\n",
      "Wall time: 867 ms\n"
     ]
    }
   ],
   "source": [
    "eacEst = eac.EAC(n_samples=n_samples)\n",
    "%time eacEst.fit(ensemble)\n",
    "eacEst._getAssocsDegree()"
   ]
  },
  {
   "cell_type": "code",
   "execution_count": 52,
   "metadata": {
    "collapsed": false
   },
   "outputs": [
    {
     "name": "stdout",
     "output_type": "stream",
     "text": [
      "check matrices\n",
      "mat0:  True\n",
      "mat1:  True\n",
      "mat2:  False\n",
      "mat3:  False\n"
     ]
    }
   ],
   "source": [
    "print \"check matrices\"\n",
    "print \"mat0: \", (eacEst._coassoc == mat0.todense()).all()\n",
    "print \"mat1: \", (eacEst._coassoc == mat1.todense()).all()\n",
    "print \"mat2: \", (eacEst._coassoc == mat2.todense()).all()\n",
    "print \"mat3: \", (eacEst._coassoc == mat3.todense()).all()"
   ]
  },
  {
   "cell_type": "code",
   "execution_count": 63,
   "metadata": {
    "collapsed": false
   },
   "outputs": [
    {
     "name": "stdout",
     "output_type": "stream",
     "text": [
      "eac:   3107432\n",
      "mat0:  3107432\n",
      "mat1:  3107432\n",
      "mat2:  3107432\n",
      "mat3:  12495000\n"
     ]
    }
   ],
   "source": [
    "print \"eac:  \", eacEst.nnz\n",
    "print \"mat0: \",mat0.nnz\n",
    "print \"mat1: \",mat1.nnz\n",
    "print \"mat2: \",mat2.nnz\n",
    "print \"mat3: \",mat3.nnz"
   ]
  },
  {
   "cell_type": "code",
   "execution_count": 67,
   "metadata": {
    "collapsed": false
   },
   "outputs": [
    {
     "data": {
      "text/plain": [
       "22080225"
      ]
     },
     "execution_count": 67,
     "metadata": {},
     "output_type": "execute_result"
    }
   ],
   "source": [
    "(eacEst._coassoc == mat2.todense()).sum()"
   ]
  }
 ],
 "metadata": {
  "kernelspec": {
   "display_name": "Python 2",
   "language": "python",
   "name": "python2"
  },
  "language_info": {
   "codemirror_mode": {
    "name": "ipython",
    "version": 2
   },
   "file_extension": ".py",
   "mimetype": "text/x-python",
   "name": "python",
   "nbconvert_exporter": "python",
   "pygments_lexer": "ipython2",
   "version": "2.7.10"
  }
 },
 "nbformat": 4,
 "nbformat_minor": 0
}
