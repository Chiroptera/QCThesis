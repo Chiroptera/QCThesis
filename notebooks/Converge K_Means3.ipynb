{
 "cells": [
  {
   "cell_type": "code",
   "execution_count": 3,
   "metadata": {
    "collapsed": false
   },
   "outputs": [
    {
     "name": "stdout",
     "output_type": "stream",
     "text": [
      "/home/chiroptera/workspace/QCThesis/CUDA\n"
     ]
    }
   ],
   "source": [
    "cd /home/chiroptera/workspace/QCThesis/CUDA/"
   ]
  },
  {
   "cell_type": "code",
   "execution_count": 13,
   "metadata": {
    "collapsed": true
   },
   "outputs": [],
   "source": [
    "import numpy as np\n",
    "import cProfile"
   ]
  },
  {
   "cell_type": "code",
   "execution_count": 5,
   "metadata": {
    "collapsed": false
   },
   "outputs": [
    {
     "data": {
      "text/plain": [
       "<module 'K_Means3' from 'K_Means3.pyc'>"
      ]
     },
     "execution_count": 5,
     "metadata": {},
     "output_type": "execute_result"
    }
   ],
   "source": [
    "import K_Means3\n",
    "reload(K_Means3)"
   ]
  },
  {
   "cell_type": "code",
   "execution_count": 6,
   "metadata": {
    "collapsed": true
   },
   "outputs": [],
   "source": [
    "from numbapro import vectorize\n",
    "from numpy import arange\n",
    "\n",
    "@vectorize(['float32(float32, float32)'], target='cpu') # default to 'cpu'\n",
    "def add2(a, b):\n",
    "    return a + b\n",
    "\n",
    "@vectorize(['float32(float32, float32)'], target='gpu') # default to 'cpu'\n",
    "def add2_gpu(a, b):\n",
    "    return a + b\n"
   ]
  },
  {
   "cell_type": "code",
   "execution_count": 12,
   "metadata": {
    "collapsed": false
   },
   "outputs": [
    {
     "name": "stdout",
     "output_type": "stream",
     "text": [
      "Results: 7.99429e+12 8e+12\n",
      "100 loops, best of 3: 17.5 ms per loop\n",
      "10 loops, best of 3: 45.2 ms per loop\n"
     ]
    }
   ],
   "source": [
    "n=4e6\n",
    "X = np.arange(np.int(n), dtype='float32')\n",
    "\n",
    "print 'Results:',add2.reduce(X),add2_gpu.reduce(X)\n",
    "%timeit add2.reduce(X)\n",
    "%timeit add2_gpu.reduce(X)"
   ]
  },
  {
   "cell_type": "code",
   "execution_count": 17,
   "metadata": {
    "collapsed": false
   },
   "outputs": [
    {
     "name": "stdout",
     "output_type": "stream",
     "text": [
      "         16330 function calls (15815 primitive calls) in 0.070 seconds\n",
      "\n",
      "   Ordered by: standard name\n",
      "\n",
      "   ncalls  tottime  percall  cumtime  percall filename:lineno(function)\n",
      "        1    0.000    0.000    0.070    0.070 <string>:1(<module>)\n",
      "       82    0.000    0.000    0.000    0.000 <string>:8(__new__)\n",
      "      164    0.000    0.000    0.003    0.000 _methods.py:34(_prod)\n",
      "        1    0.000    0.000    0.000    0.000 api.py:157(stream)\n",
      "        1    0.000    0.000    0.007    0.007 api.py:23(to_device)\n",
      "      164    0.010    0.000    0.011    0.000 arrayobj.py:46(make_array_ctype)\n",
      "      164    0.001    0.000    0.001    0.000 arrayobj.py:61(c_array)\n",
      "       27    0.000    0.000    0.000    0.000 autotune.py:61(by_occupancy)\n",
      "       27    0.000    0.000    0.000    0.000 autotune.py:71(best)\n",
      "       27    0.000    0.000    0.000    0.000 autotune.py:74(max_occupancy_min_blocks)\n",
      "       27    0.000    0.000    0.001    0.000 compiler.py:172(copy)\n",
      "       27    0.000    0.000    0.002    0.000 compiler.py:175(configure)\n",
      "       27    0.000    0.000    0.001    0.000 compiler.py:250(get)\n",
      "       27    0.000    0.000    0.006    0.000 compiler.py:301(__call__)\n",
      "       27    0.000    0.000    0.005    0.000 compiler.py:326(_kernel_call)\n",
      "       81    0.000    0.000    0.000    0.000 compiler.py:377(_prepare_args)\n",
      "       83    0.000    0.000    0.000    0.000 contextlib.py:12(__init__)\n",
      "       83    0.000    0.000    0.001    0.000 contextlib.py:15(__enter__)\n",
      "       83    0.001    0.000    0.002    0.000 contextlib.py:21(__exit__)\n",
      "       83    0.000    0.000    0.000    0.000 contextlib.py:82(helper)\n",
      "       54    0.000    0.000    0.001    0.000 copy.py:306(_reconstruct)\n",
      "       54    0.000    0.000    0.002    0.000 copy.py:66(copy)\n",
      "       54    0.000    0.000    0.000    0.000 copy_reg.py:92(__newobj__)\n",
      "       82    0.000    0.000    0.000    0.000 devicearray.py:123(__del__)\n",
      "       29    0.000    0.000    0.000    0.000 devicearray.py:129(_default_stream)\n",
      "        2    0.000    0.000    0.000    0.000 devicearray.py:141(device_ctypes_pointer)\n",
      "        1    0.000    0.000    0.006    0.006 devicearray.py:151(copy_to_device)\n",
      "        1    0.000    0.000    0.000    0.000 devicearray.py:168(copy_to_host)\n",
      "       81    0.001    0.000    0.032    0.000 devicearray.py:211(split)\n",
      "      136    0.000    0.000    0.000    0.000 devicearray.py:23(is_cuda_ndarray)\n",
      "       81    0.000    0.000    0.000    0.000 devicearray.py:232(as_cuda_arg)\n",
      "       27    0.000    0.000    0.019    0.001 devicearray.py:245(reshape)\n",
      "        1    0.000    0.000    0.001    0.001 devicearray.py:332(from_array_like)\n",
      "       81    0.000    0.000    0.000    0.000 devicearray.py:353(auto_device)\n",
      "       82    0.002    0.000    0.050    0.001 devicearray.py:56(__init__)\n",
      "      113    0.000    0.000    0.002    0.000 devices.py:108(current_context)\n",
      "      113    0.000    0.000    0.003    0.000 devices.py:183(get_or_create_context)\n",
      "      113    0.000    0.000    0.003    0.000 devices.py:224(get_context)\n",
      "        2    0.000    0.000    0.007    0.004 devices.py:236(_require_cuda_context)\n",
      "       27    0.000    0.000    0.000    0.000 deviceufunc.py:100(_broadcast)\n",
      "       54    0.000    0.000    0.000    0.000 deviceufunc.py:105(<lambda>)\n",
      "       27    0.000    0.000    0.001    0.000 deviceufunc.py:130(get_arguments)\n",
      "       27    0.000    0.000    0.000    0.000 deviceufunc.py:140(get_function)\n",
      "       27    0.000    0.000    0.000    0.000 deviceufunc.py:16(__init__)\n",
      "       27    0.000    0.000    0.029    0.001 deviceufunc.py:165(call)\n",
      "       27    0.000    0.000    0.000    0.000 deviceufunc.py:27(_fill_arrays)\n",
      "       27    0.000    0.000    0.000    0.000 deviceufunc.py:42(_fill_argtypes)\n",
      "       27    0.000    0.000    0.000    0.000 deviceufunc.py:50(_resolve_signature)\n",
      "       81    0.000    0.000    0.000    0.000 deviceufunc.py:74(<genexpr>)\n",
      "       27    0.000    0.000    0.000    0.000 deviceufunc.py:91(_get_actual_args)\n",
      "      135    0.000    0.000    0.000    0.000 dispatch.py:200(is_device_array)\n",
      "       27    0.000    0.000    0.008    0.000 dispatch.py:206(launch)\n",
      "       27    0.000    0.000    0.029    0.001 dispatch.py:25(__call__)\n",
      "        1    0.000    0.000    0.069    0.069 dispatch.py:38(reduce)\n",
      "     27/1    0.000    0.000    0.062    0.062 dispatch.py:67(__reduce)\n",
      "       27    0.000    0.000    0.001    0.000 driver.py:1018(configure)\n",
      "       27    0.000    0.000    0.003    0.000 driver.py:1035(__call__)\n",
      "       27    0.001    0.000    0.003    0.000 driver.py:1070(launch_kernel)\n",
      "       81    0.000    0.000    0.000    0.000 driver.py:1233(device_memory_size)\n",
      "       84    0.000    0.000    0.001    0.000 driver.py:1247(host_pointer)\n",
      "        1    0.000    0.000    0.000    0.000 driver.py:1258(host_memory_extents)\n",
      "        1    0.000    0.000    0.000    0.000 driver.py:1263(memory_size_from_info)\n",
      "        1    0.000    0.000    0.000    0.000 driver.py:1273(host_memory_size)\n",
      "      166    0.000    0.000    0.002    0.000 driver.py:1280(device_pointer)\n",
      "      247    0.001    0.000    0.003    0.000 driver.py:1285(device_ctypes_pointer)\n",
      "      410    0.000    0.000    0.002    0.000 driver.py:1293(is_device_memory)\n",
      "      247    0.000    0.000    0.001    0.000 driver.py:1304(require_device_memory)\n",
      "       82    0.000    0.000    0.001    0.000 driver.py:1311(device_memory_depends)\n",
      "       83    0.000    0.000    0.020    0.000 driver.py:1321(host_to_device)\n",
      "        1    0.000    0.000    0.000    0.000 driver.py:1339(device_to_host)\n",
      "      393    0.021    0.000    0.021    0.000 driver.py:212(safe_cuda_api_call)\n",
      "      393    0.000    0.000    0.000    0.000 driver.py:241(_check_error)\n",
      "      113    0.001    0.000    0.002    0.000 driver.py:270(get_context)\n",
      "        2    0.000    0.000    0.000    0.000 driver.py:291(add_trash)\n",
      "        2    0.000    0.000    0.000    0.000 driver.py:294(process)\n",
      "        1    0.000    0.000    0.000    0.000 driver.py:498(memalloc)\n",
      "        1    0.000    0.000    0.000    0.000 driver.py:596(create_stream)\n",
      "        1    0.000    0.000    0.000    0.000 driver.py:664(_make_mem_finalizer)\n",
      "        1    0.000    0.000    0.000    0.000 driver.py:665(mem_finalize)\n",
      "        1    0.000    0.000    0.000    0.000 driver.py:669(core)\n",
      "        1    0.000    0.000    0.000    0.000 driver.py:670(cleanup)\n",
      "        1    0.000    0.000    0.000    0.000 driver.py:703(_stream_finalizer)\n",
      "        1    0.000    0.000    0.000    0.000 driver.py:704(core)\n",
      "        1    0.000    0.000    0.000    0.000 driver.py:705(<lambda>)\n",
      "       55    0.000    0.000    0.000    0.000 driver.py:728(__init__)\n",
      "       55    0.000    0.000    0.000    0.000 driver.py:739(__del__)\n",
      "        1    0.000    0.000    0.000    0.000 driver.py:746(own)\n",
      "       26    0.000    0.000    0.000    0.000 driver.py:749(free)\n",
      "       54    0.000    0.000    0.001    0.000 driver.py:767(view)\n",
      "      247    0.000    0.000    0.000    0.000 driver.py:778(device_ctypes_pointer)\n",
      "       55    0.000    0.000    0.000    0.000 driver.py:838(__init__)\n",
      "       55    0.000    0.000    0.000    0.000 driver.py:847(__del__)\n",
      "      790    0.001    0.000    0.001    0.000 driver.py:858(__getattr__)\n",
      "        1    0.000    0.000    0.000    0.000 driver.py:869(__init__)\n",
      "        1    0.000    0.000    0.000    0.000 driver.py:875(__del__)\n",
      "        1    0.000    0.000    0.000    0.000 driver.py:888(synchronize)\n",
      "        2    0.000    0.000    0.000    0.000 driver.py:891(auto_synchronize)\n",
      "       82    0.000    0.000    0.001    0.000 driver.py:911(query)\n",
      "       82    0.000    0.000    0.001    0.000 driver.py:925(record)\n",
      "      164    0.000    0.000    0.000    0.000 dummyarray.py:104(is_contiguous)\n",
      "      164    0.000    0.000    0.001    0.000 dummyarray.py:108(compute_index)\n",
      "      328    0.000    0.000    0.000    0.000 dummyarray.py:109(<genexpr>)\n",
      "       82    0.001    0.000    0.008    0.000 dummyarray.py:148(from_desc)\n",
      "       82    0.002    0.000    0.007    0.000 dummyarray.py:157(__init__)\n",
      "      164    0.000    0.000    0.000    0.000 dummyarray.py:160(<genexpr>)\n",
      "      164    0.000    0.000    0.000    0.000 dummyarray.py:161(<genexpr>)\n",
      "       82    0.001    0.000    0.001    0.000 dummyarray.py:167(_compute_layout)\n",
      "      164    0.000    0.000    0.000    0.000 dummyarray.py:172(is_contig)\n",
      "       82    0.001    0.000    0.002    0.000 dummyarray.py:184(_compute_extent)\n",
      "       82    0.000    0.000    0.000    0.000 dummyarray.py:27(__init__)\n",
      "      164    0.000    0.000    0.000    0.000 dummyarray.py:80(get_offset)\n",
      "      164    0.001    0.000    0.004    0.000 fromnumeric.py:2259(prod)\n",
      "       82    0.002    0.000    0.034    0.000 ndarray.py:130(ndarray_populate_head)\n",
      "       82    0.000    0.000    0.000    0.000 ndarray.py:42(__new__)\n",
      "      164    0.000    0.000    0.002    0.000 ndarray.py:69(get_stage)\n",
      "       82    0.001    0.000    0.006    0.000 ndarray.py:80(allocate)\n",
      "       82    0.000    0.000    0.000    0.000 ndarray.py:91(free)\n",
      "       82    0.001    0.000    0.019    0.000 ndarray.py:96(write)\n",
      "       27    0.000    0.000    0.000    0.000 plugins.py:21(autotune)\n",
      "       27    0.000    0.000    0.000    0.000 plugins.py:50(forall)\n",
      "       27    0.000    0.000    0.000    0.000 plugins.py:63(_compute_thread_per_block)\n",
      "       27    0.000    0.000    0.000    0.000 plugins.py:77(__init__)\n",
      "       27    0.000    0.000    0.008    0.000 plugins.py:84(__call__)\n",
      "        2    0.000    0.000    0.000    0.000 service.py:18(service)\n",
      "      226    0.000    0.000    0.000    0.000 threadlocal.py:13(stack)\n",
      "      113    0.000    0.000    0.000    0.000 threadlocal.py:29(top)\n",
      "      113    0.000    0.000    0.000    0.000 threadlocal.py:33(is_empty)\n",
      "      113    0.000    0.000    0.000    0.000 threadlocal.py:37(__bool__)\n",
      "      113    0.000    0.000    0.001    0.000 threadlocal.py:40(__nonzero__)\n",
      "        1    0.000    0.000    0.000    0.000 utils.py:142(__setitem__)\n",
      "       81    0.000    0.000    0.000    0.000 {_ctypes.addressof}\n",
      "      115    0.000    0.000    0.000    0.000 {_ctypes.byref}\n",
      "      164    0.000    0.000    0.000    0.000 {_ctypes.sizeof}\n",
      "       57    0.000    0.000    0.000    0.000 {_weakref.proxy}\n",
      "       27    0.000    0.000    0.000    0.000 {all}\n",
      "      136    0.000    0.000    0.000    0.000 {built-in method __new__ of type object at 0x7f72b0db4d00}\n",
      "1607/1118    0.002    0.000    0.003    0.000 {getattr}\n",
      "       81    0.000    0.000    0.000    0.000 {hasattr}\n",
      "       54    0.000    0.000    0.000    0.000 {id}\n",
      "      656    0.000    0.000    0.000    0.000 {isinstance}\n",
      "       82    0.000    0.000    0.000    0.000 {iter}\n",
      "      764    0.000    0.000    0.000    0.000 {len}\n",
      "       27    0.000    0.000    0.000    0.000 {math.ceil}\n",
      "       27    0.000    0.000    0.000    0.000 {max}\n",
      "       54    0.001    0.000    0.001    0.000 {method '__reduce_ex__' of 'object' objects}\n",
      "       82    0.000    0.000    0.000    0.000 {method 'add' of 'set' objects}\n",
      "      164    0.000    0.000    0.000    0.000 {method 'append' of 'collections.deque' objects}\n",
      "      417    0.000    0.000    0.000    0.000 {method 'append' of 'list' objects}\n",
      "        1    0.000    0.000    0.000    0.000 {method 'disable' of '_lsprof.Profiler' objects}\n",
      "       82    0.000    0.000    0.000    0.000 {method 'discard' of 'set' objects}\n",
      "      109    0.000    0.000    0.000    0.000 {method 'extend' of 'list' objects}\n",
      "      217    0.000    0.000    0.000    0.000 {method 'get' of 'dict' objects}\n",
      "        1    0.000    0.000    0.000    0.000 {method 'keys' of 'dict' objects}\n",
      "       54    0.000    0.000    0.000    0.000 {method 'pop' of 'dict' objects}\n",
      "        2    0.000    0.000    0.000    0.000 {method 'pop' of 'list' objects}\n",
      "      164    0.000    0.000    0.000    0.000 {method 'popleft' of 'collections.deque' objects}\n",
      "      164    0.003    0.000    0.003    0.000 {method 'reduce' of 'numpy.ufunc' objects}\n",
      "       54    0.000    0.000    0.000    0.000 {method 'update' of 'dict' objects}\n",
      "       55    0.000    0.000    0.000    0.000 {min}\n",
      "      166    0.000    0.000    0.000    0.000 {next}\n",
      "       84    0.000    0.000    0.000    0.000 {numba.mviewbuf.memoryview_get_buffer}\n",
      "        1    0.000    0.000    0.000    0.000 {numba.mviewbuf.memoryview_get_extents_info}\n",
      "        1    0.000    0.000    0.000    0.000 {numba.mviewbuf.memoryview_get_extents}\n",
      "        1    0.000    0.000    0.000    0.000 {numpy.core.multiarray.array}\n",
      "       27    0.000    0.000    0.000    0.000 {range}\n",
      "      164    0.000    0.000    0.001    0.000 {sum}\n",
      "      300    0.000    0.000    0.000    0.000 {zip}\n",
      "\n",
      "\n"
     ]
    }
   ],
   "source": [
    "a=cProfile.run(\"add2_gpu.reduce(X)\")"
   ]
  }
 ],
 "metadata": {
  "kernelspec": {
   "display_name": "Python 2",
   "language": "python",
   "name": "python2"
  },
  "language_info": {
   "codemirror_mode": {
    "name": "ipython",
    "version": 2
   },
   "file_extension": ".py",
   "mimetype": "text/x-python",
   "name": "python",
   "nbconvert_exporter": "python",
   "pygments_lexer": "ipython2",
   "version": "2.7.9"
  }
 },
 "nbformat": 4,
 "nbformat_minor": 0
}
