{
 "cells": [
  {
   "cell_type": "code",
   "execution_count": 1,
   "metadata": {
    "collapsed": false
   },
   "outputs": [
    {
     "name": "stdout",
     "output_type": "stream",
     "text": [
      "Populating the interactive namespace from numpy and matplotlib\n"
     ]
    }
   ],
   "source": [
    "%pylab inline"
   ]
  },
  {
   "cell_type": "code",
   "execution_count": 5,
   "metadata": {
    "collapsed": false
   },
   "outputs": [
    {
     "name": "stdout",
     "output_type": "stream",
     "text": [
      "/home/chiroptera/workspace/QCThesis/CUDA\n"
     ]
    }
   ],
   "source": [
    "cd /home/chiroptera/workspace/QCThesis/CUDA/"
   ]
  },
  {
   "cell_type": "code",
   "execution_count": 163,
   "metadata": {
    "collapsed": false
   },
   "outputs": [
    {
     "data": {
      "text/plain": [
       "<module 'K_Means3' from 'K_Means3.pyc'>"
      ]
     },
     "execution_count": 163,
     "metadata": {},
     "output_type": "execute_result"
    }
   ],
   "source": [
    "import K_Means3\n",
    "from K_Means3 import *\n",
    "reload(K_Means3)"
   ]
  },
  {
   "cell_type": "code",
   "execution_count": 11,
   "metadata": {
    "collapsed": true
   },
   "outputs": [],
   "source": [
    "from sklearn import datasets # generate gaussian mixture\n",
    "\n",
    "def generateData(n,d,k):\n",
    "    n_int = np.int(n)\n",
    "\n",
    "    # Generate data\n",
    "    data, groundTruth = datasets.make_blobs(n_samples=n_int,n_features=d,centers=k,\n",
    "                                            center_box=(-1000.0,1000.0))\n",
    "    data = data.astype(np.float32)  \n",
    "    \n",
    "    return data,groundTruth"
   ]
  },
  {
   "cell_type": "code",
   "execution_count": 148,
   "metadata": {
    "collapsed": false
   },
   "outputs": [
    {
     "data": {
      "text/plain": [
       "[<matplotlib.lines.Line2D at 0x7fc4331b7990>]"
      ]
     },
     "execution_count": 148,
     "metadata": {},
     "output_type": "execute_result"
    },
    {
     "data": {
      "image/png": "[encoded data removed]",
      "text/plain": [
       "<matplotlib.figure.Figure at 0x7fc4331b5590>"
      ]
     },
     "metadata": {},
     "output_type": "display_data"
    }
   ],
   "source": [
    "data,labels = generateData(1e3,2,10)\n",
    "\n",
    "plt.plot(data[:,0],data[:,1],'.')"
   ]
  },
  {
   "cell_type": "code",
   "execution_count": 149,
   "metadata": {
    "collapsed": true
   },
   "outputs": [],
   "source": [
    "k=12\n",
    "iters=100"
   ]
  },
  {
   "cell_type": "code",
   "execution_count": null,
   "metadata": {
    "collapsed": false
   },
   "outputs": [
    {
     "name": "stdout",
     "output_type": "stream",
     "text": [
      "Breakpoint 1 at /home/chiroptera/workspace/QCThesis/CUDA/K_Means3.py:129\n",
      "NOTE: Enter 'c' at the ipdb>  prompt to continue execution.\n",
      "> \u001b[1;32m/home/chiroptera/workspace/QCThesis/CUDA/K_Means3.py\u001b[0m(20)\u001b[0;36m__init__\u001b[1;34m()\u001b[0m\n",
      "\u001b[1;32m     19 \u001b[1;33m    \u001b[1;32mdef\u001b[0m \u001b[0m__init__\u001b[0m\u001b[1;33m(\u001b[0m\u001b[0mself\u001b[0m\u001b[1;33m,\u001b[0m\u001b[0mN\u001b[0m\u001b[1;33m=\u001b[0m\u001b[0mNone\u001b[0m\u001b[1;33m,\u001b[0m\u001b[0mD\u001b[0m\u001b[1;33m=\u001b[0m\u001b[0mNone\u001b[0m\u001b[1;33m,\u001b[0m\u001b[0mK\u001b[0m\u001b[1;33m=\u001b[0m\u001b[0mNone\u001b[0m\u001b[1;33m)\u001b[0m\u001b[1;33m:\u001b[0m\u001b[1;33m\u001b[0m\u001b[0m\n",
      "\u001b[0m\u001b[1;32m---> 20 \u001b[1;33m        \u001b[0mself\u001b[0m\u001b[1;33m.\u001b[0m\u001b[0mN\u001b[0m \u001b[1;33m=\u001b[0m \u001b[0mN\u001b[0m\u001b[1;33m\u001b[0m\u001b[0m\n",
      "\u001b[0m\u001b[1;32m     21 \u001b[1;33m        \u001b[0mself\u001b[0m\u001b[1;33m.\u001b[0m\u001b[0mD\u001b[0m \u001b[1;33m=\u001b[0m \u001b[0mD\u001b[0m\u001b[1;33m\u001b[0m\u001b[0m\n",
      "\u001b[0m\n",
      "ipdb> c\n",
      "> \u001b[1;32m/home/chiroptera/workspace/QCThesis/CUDA/K_Means3.py\u001b[0m(129)\u001b[0;36mfit\u001b[1;34m()\u001b[0m\n",
      "\u001b[1;32m    128 \u001b[1;33m        \u001b[1;32mwhile\u001b[0m \u001b[1;32mnot\u001b[0m \u001b[0mstopcond\u001b[0m\u001b[1;33m:\u001b[0m\u001b[1;33m\u001b[0m\u001b[0m\n",
      "\u001b[0m\u001b[1;31m1\u001b[1;32m-> 129 \u001b[1;33m            \u001b[0mlabels\u001b[0m \u001b[1;33m=\u001b[0m \u001b[0mself\u001b[0m\u001b[1;33m.\u001b[0m\u001b[0m_label\u001b[0m\u001b[1;33m(\u001b[0m\u001b[0mdata\u001b[0m\u001b[1;33m,\u001b[0m\u001b[0mself\u001b[0m\u001b[1;33m.\u001b[0m\u001b[0mcentroids\u001b[0m\u001b[1;33m)\u001b[0m\u001b[1;33m\u001b[0m\u001b[0m\n",
      "\u001b[0m\u001b[1;32m    130 \u001b[1;33m\u001b[1;33m\u001b[0m\u001b[0m\n",
      "\u001b[0m\n",
      "ipdb> w\n",
      "  \u001b[1;32m/home/chiroptera/anaconda/lib/python2.7/bdb.py\u001b[0m(400)\u001b[0;36mrun\u001b[1;34m()\u001b[0m\n",
      "\u001b[0;32m    398 \u001b[0m            \u001b[0mcmd\u001b[0m \u001b[1;33m=\u001b[0m \u001b[0mcmd\u001b[0m\u001b[1;33m+\u001b[0m\u001b[1;34m'\\n'\u001b[0m\u001b[1;33m\u001b[0m\u001b[0m\n",
      "\u001b[0;32m    399 \u001b[0m        \u001b[1;32mtry\u001b[0m\u001b[1;33m:\u001b[0m\u001b[1;33m\u001b[0m\u001b[0m\n",
      "\u001b[1;32m--> 400 \u001b[1;33m            \u001b[1;32mexec\u001b[0m \u001b[0mcmd\u001b[0m \u001b[1;32min\u001b[0m \u001b[0mglobals\u001b[0m\u001b[1;33m,\u001b[0m \u001b[0mlocals\u001b[0m\u001b[1;33m\u001b[0m\u001b[0m\n",
      "\u001b[0m\u001b[0;32m    401 \u001b[0m        \u001b[1;32mexcept\u001b[0m \u001b[0mBdbQuit\u001b[0m\u001b[1;33m:\u001b[0m\u001b[1;33m\u001b[0m\u001b[0m\n",
      "\u001b[0;32m    402 \u001b[0m            \u001b[1;32mpass\u001b[0m\u001b[1;33m\u001b[0m\u001b[0m\n",
      "\n",
      "  \u001b[1;32m<string>\u001b[0m(4)\u001b[0;36m<module>\u001b[1;34m()\u001b[0m\n",
      "\n",
      "> \u001b[1;32m/home/chiroptera/workspace/QCThesis/CUDA/K_Means3.py\u001b[0m(129)\u001b[0;36mfit\u001b[1;34m()\u001b[0m\n",
      "\u001b[1;32m    127 \u001b[1;33m\u001b[1;33m\u001b[0m\u001b[0m\n",
      "\u001b[0m\u001b[1;32m    128 \u001b[1;33m        \u001b[1;32mwhile\u001b[0m \u001b[1;32mnot\u001b[0m \u001b[0mstopcond\u001b[0m\u001b[1;33m:\u001b[0m\u001b[1;33m\u001b[0m\u001b[0m\n",
      "\u001b[0m\u001b[1;31m1\u001b[1;32m-> 129 \u001b[1;33m            \u001b[0mlabels\u001b[0m \u001b[1;33m=\u001b[0m \u001b[0mself\u001b[0m\u001b[1;33m.\u001b[0m\u001b[0m_label\u001b[0m\u001b[1;33m(\u001b[0m\u001b[0mdata\u001b[0m\u001b[1;33m,\u001b[0m\u001b[0mself\u001b[0m\u001b[1;33m.\u001b[0m\u001b[0mcentroids\u001b[0m\u001b[1;33m)\u001b[0m\u001b[1;33m\u001b[0m\u001b[0m\n",
      "\u001b[0m\u001b[1;32m    130 \u001b[1;33m\u001b[1;33m\u001b[0m\u001b[0m\n",
      "\u001b[0m\u001b[1;32m    131 \u001b[1;33m            \u001b[0mself\u001b[0m\u001b[1;33m.\u001b[0m\u001b[0mcentroids\u001b[0m \u001b[1;33m=\u001b[0m  \u001b[0mself\u001b[0m\u001b[1;33m.\u001b[0m\u001b[0m_recompute_centroids\u001b[0m\u001b[1;33m(\u001b[0m\u001b[0mdata\u001b[0m\u001b[1;33m,\u001b[0m\u001b[0mself\u001b[0m\u001b[1;33m.\u001b[0m\u001b[0mcentroids\u001b[0m\u001b[1;33m,\u001b[0m\u001b[0mlabels\u001b[0m\u001b[1;33m)\u001b[0m\u001b[1;33m\u001b[0m\u001b[0m\n",
      "\u001b[0m\n",
      "ipdb> p self._iters\n",
      "0\n",
      "ipdb> n\n",
      "> \u001b[1;32m/home/chiroptera/workspace/QCThesis/CUDA/K_Means3.py\u001b[0m(131)\u001b[0;36mfit\u001b[1;34m()\u001b[0m\n",
      "\u001b[1;32m    130 \u001b[1;33m\u001b[1;33m\u001b[0m\u001b[0m\n",
      "\u001b[0m\u001b[1;32m--> 131 \u001b[1;33m            \u001b[0mself\u001b[0m\u001b[1;33m.\u001b[0m\u001b[0mcentroids\u001b[0m \u001b[1;33m=\u001b[0m  \u001b[0mself\u001b[0m\u001b[1;33m.\u001b[0m\u001b[0m_recompute_centroids\u001b[0m\u001b[1;33m(\u001b[0m\u001b[0mdata\u001b[0m\u001b[1;33m,\u001b[0m\u001b[0mself\u001b[0m\u001b[1;33m.\u001b[0m\u001b[0mcentroids\u001b[0m\u001b[1;33m,\u001b[0m\u001b[0mlabels\u001b[0m\u001b[1;33m)\u001b[0m\u001b[1;33m\u001b[0m\u001b[0m\n",
      "\u001b[0m\u001b[1;32m    132 \u001b[1;33m\u001b[1;33m\u001b[0m\u001b[0m\n",
      "\u001b[0m\n",
      "ipdb> p np.unique(labels)\n",
      "array([ 0,  1,  2,  3,  4,  5,  6,  7,  8,  9, 10, 11], dtype=int32)\n",
      "ipdb> s\n",
      "--Call--\n",
      "> \u001b[1;32m/home/chiroptera/workspace/QCThesis/CUDA/K_Means3.py\u001b[0m(547)\u001b[0;36m_recompute_centroids\u001b[1;34m()\u001b[0m\n",
      "\u001b[1;32m    546 \u001b[1;33m\u001b[1;33m\u001b[0m\u001b[0m\n",
      "\u001b[0m\u001b[1;32m--> 547 \u001b[1;33m    \u001b[1;32mdef\u001b[0m \u001b[0m_recompute_centroids\u001b[0m\u001b[1;33m(\u001b[0m\u001b[0mself\u001b[0m\u001b[1;33m,\u001b[0m\u001b[0mdata\u001b[0m\u001b[1;33m,\u001b[0m\u001b[0mcentroids\u001b[0m\u001b[1;33m,\u001b[0m\u001b[0mlabels\u001b[0m\u001b[1;33m)\u001b[0m\u001b[1;33m:\u001b[0m\u001b[1;33m\u001b[0m\u001b[0m\n",
      "\u001b[0m\u001b[1;32m    548 \u001b[1;33m        \u001b[1;32mif\u001b[0m \u001b[0mself\u001b[0m\u001b[1;33m.\u001b[0m\u001b[0m_centroid_mode\u001b[0m \u001b[1;33m==\u001b[0m \u001b[1;34m\"group\"\u001b[0m\u001b[1;33m:\u001b[0m\u001b[1;33m\u001b[0m\u001b[0m\n",
      "\u001b[0m\n",
      "ipdb> l\n",
      "\u001b[0;32m    542 \u001b[0m    \u001b[1;31m# # # # # # # # # # # # # # # # # # # # # # # # # # # # # # # # # # # # # # # # # # # # # # # # #\u001b[0m\u001b[1;33m\u001b[0m\u001b[1;33m\u001b[0m\u001b[0m\n",
      "\u001b[0;32m    543 \u001b[0m    \u001b[1;31m# # # # # # # # # # # # # # # # # # # # # # # # # # # # # # # # # # # # # # # # # # # # # # # # #\u001b[0m\u001b[1;33m\u001b[0m\u001b[1;33m\u001b[0m\u001b[0m\n",
      "\u001b[0;32m    544 \u001b[0m    \u001b[1;31m# # # # # # # # # # # # # # # # # # # # # # # # # # # # # # # # # # # # # # # # # # # # # # # # #\u001b[0m\u001b[1;33m\u001b[0m\u001b[1;33m\u001b[0m\u001b[0m\n",
      "\u001b[0;32m    545 \u001b[0m\u001b[1;33m\u001b[0m\u001b[0m\n",
      "\u001b[0;32m    546 \u001b[0m\u001b[1;33m\u001b[0m\u001b[0m\n",
      "\u001b[1;32m--> 547 \u001b[1;33m    \u001b[1;32mdef\u001b[0m \u001b[0m_recompute_centroids\u001b[0m\u001b[1;33m(\u001b[0m\u001b[0mself\u001b[0m\u001b[1;33m,\u001b[0m\u001b[0mdata\u001b[0m\u001b[1;33m,\u001b[0m\u001b[0mcentroids\u001b[0m\u001b[1;33m,\u001b[0m\u001b[0mlabels\u001b[0m\u001b[1;33m)\u001b[0m\u001b[1;33m:\u001b[0m\u001b[1;33m\u001b[0m\u001b[0m\n",
      "\u001b[0m\u001b[0;32m    548 \u001b[0m        \u001b[1;32mif\u001b[0m \u001b[0mself\u001b[0m\u001b[1;33m.\u001b[0m\u001b[0m_centroid_mode\u001b[0m \u001b[1;33m==\u001b[0m \u001b[1;34m\"group\"\u001b[0m\u001b[1;33m:\u001b[0m\u001b[1;33m\u001b[0m\u001b[0m\n",
      "\u001b[0;32m    549 \u001b[0m            \u001b[0mnew_centroids\u001b[0m \u001b[1;33m=\u001b[0m \u001b[0mself\u001b[0m\u001b[1;33m.\u001b[0m\u001b[0m_np_recompute_centroids_group\u001b[0m\u001b[1;33m(\u001b[0m\u001b[0mdata\u001b[0m\u001b[1;33m,\u001b[0m\u001b[0mcentroids\u001b[0m\u001b[1;33m,\u001b[0m\u001b[0mlabels\u001b[0m\u001b[1;33m)\u001b[0m\u001b[1;33m\u001b[0m\u001b[0m\n",
      "\u001b[0;32m    550 \u001b[0m        \u001b[1;32melif\u001b[0m \u001b[0mself\u001b[0m\u001b[1;33m.\u001b[0m\u001b[0m_centroid_mode\u001b[0m \u001b[1;33m==\u001b[0m \u001b[1;34m\"index\"\u001b[0m\u001b[1;33m:\u001b[0m\u001b[1;33m\u001b[0m\u001b[0m\n",
      "\u001b[0;32m    551 \u001b[0m            \u001b[0mnew_centroids\u001b[0m \u001b[1;33m=\u001b[0m \u001b[0mself\u001b[0m\u001b[1;33m.\u001b[0m\u001b[0m_np_recompute_centroids_index\u001b[0m\u001b[1;33m(\u001b[0m\u001b[0mdata\u001b[0m\u001b[1;33m,\u001b[0m\u001b[0mcentroids\u001b[0m\u001b[1;33m,\u001b[0m\u001b[0mlabels\u001b[0m\u001b[1;33m)\u001b[0m\u001b[1;33m\u001b[0m\u001b[0m\n",
      "\u001b[0;32m    552 \u001b[0m        \u001b[1;32melif\u001b[0m \u001b[0mself\u001b[0m\u001b[1;33m.\u001b[0m\u001b[0m_centroid_mode\u001b[0m \u001b[1;33m==\u001b[0m \u001b[1;34m\"iter\"\u001b[0m\u001b[1;33m:\u001b[0m\u001b[1;33m\u001b[0m\u001b[0m\n",
      "\n",
      "ipdb> s\n",
      "> \u001b[1;32m/home/chiroptera/workspace/QCThesis/CUDA/K_Means3.py\u001b[0m(548)\u001b[0;36m_recompute_centroids\u001b[1;34m()\u001b[0m\n",
      "\u001b[1;32m    547 \u001b[1;33m    \u001b[1;32mdef\u001b[0m \u001b[0m_recompute_centroids\u001b[0m\u001b[1;33m(\u001b[0m\u001b[0mself\u001b[0m\u001b[1;33m,\u001b[0m\u001b[0mdata\u001b[0m\u001b[1;33m,\u001b[0m\u001b[0mcentroids\u001b[0m\u001b[1;33m,\u001b[0m\u001b[0mlabels\u001b[0m\u001b[1;33m)\u001b[0m\u001b[1;33m:\u001b[0m\u001b[1;33m\u001b[0m\u001b[0m\n",
      "\u001b[0m\u001b[1;32m--> 548 \u001b[1;33m        \u001b[1;32mif\u001b[0m \u001b[0mself\u001b[0m\u001b[1;33m.\u001b[0m\u001b[0m_centroid_mode\u001b[0m \u001b[1;33m==\u001b[0m \u001b[1;34m\"group\"\u001b[0m\u001b[1;33m:\u001b[0m\u001b[1;33m\u001b[0m\u001b[0m\n",
      "\u001b[0m\u001b[1;32m    549 \u001b[1;33m            \u001b[0mnew_centroids\u001b[0m \u001b[1;33m=\u001b[0m \u001b[0mself\u001b[0m\u001b[1;33m.\u001b[0m\u001b[0m_np_recompute_centroids_group\u001b[0m\u001b[1;33m(\u001b[0m\u001b[0mdata\u001b[0m\u001b[1;33m,\u001b[0m\u001b[0mcentroids\u001b[0m\u001b[1;33m,\u001b[0m\u001b[0mlabels\u001b[0m\u001b[1;33m)\u001b[0m\u001b[1;33m\u001b[0m\u001b[0m\n",
      "\u001b[0m\n",
      "ipdb> s\n",
      "> \u001b[1;32m/home/chiroptera/workspace/QCThesis/CUDA/K_Means3.py\u001b[0m(550)\u001b[0;36m_recompute_centroids\u001b[1;34m()\u001b[0m\n",
      "\u001b[1;32m    549 \u001b[1;33m            \u001b[0mnew_centroids\u001b[0m \u001b[1;33m=\u001b[0m \u001b[0mself\u001b[0m\u001b[1;33m.\u001b[0m\u001b[0m_np_recompute_centroids_group\u001b[0m\u001b[1;33m(\u001b[0m\u001b[0mdata\u001b[0m\u001b[1;33m,\u001b[0m\u001b[0mcentroids\u001b[0m\u001b[1;33m,\u001b[0m\u001b[0mlabels\u001b[0m\u001b[1;33m)\u001b[0m\u001b[1;33m\u001b[0m\u001b[0m\n",
      "\u001b[0m\u001b[1;32m--> 550 \u001b[1;33m        \u001b[1;32melif\u001b[0m \u001b[0mself\u001b[0m\u001b[1;33m.\u001b[0m\u001b[0m_centroid_mode\u001b[0m \u001b[1;33m==\u001b[0m \u001b[1;34m\"index\"\u001b[0m\u001b[1;33m:\u001b[0m\u001b[1;33m\u001b[0m\u001b[0m\n",
      "\u001b[0m\u001b[1;32m    551 \u001b[1;33m            \u001b[0mnew_centroids\u001b[0m \u001b[1;33m=\u001b[0m \u001b[0mself\u001b[0m\u001b[1;33m.\u001b[0m\u001b[0m_np_recompute_centroids_index\u001b[0m\u001b[1;33m(\u001b[0m\u001b[0mdata\u001b[0m\u001b[1;33m,\u001b[0m\u001b[0mcentroids\u001b[0m\u001b[1;33m,\u001b[0m\u001b[0mlabels\u001b[0m\u001b[1;33m)\u001b[0m\u001b[1;33m\u001b[0m\u001b[0m\n",
      "\u001b[0m\n",
      "ipdb> s\n",
      "> \u001b[1;32m/home/chiroptera/workspace/QCThesis/CUDA/K_Means3.py\u001b[0m(551)\u001b[0;36m_recompute_centroids\u001b[1;34m()\u001b[0m\n",
      "\u001b[1;32m    550 \u001b[1;33m        \u001b[1;32melif\u001b[0m \u001b[0mself\u001b[0m\u001b[1;33m.\u001b[0m\u001b[0m_centroid_mode\u001b[0m \u001b[1;33m==\u001b[0m \u001b[1;34m\"index\"\u001b[0m\u001b[1;33m:\u001b[0m\u001b[1;33m\u001b[0m\u001b[0m\n",
      "\u001b[0m\u001b[1;32m--> 551 \u001b[1;33m            \u001b[0mnew_centroids\u001b[0m \u001b[1;33m=\u001b[0m \u001b[0mself\u001b[0m\u001b[1;33m.\u001b[0m\u001b[0m_np_recompute_centroids_index\u001b[0m\u001b[1;33m(\u001b[0m\u001b[0mdata\u001b[0m\u001b[1;33m,\u001b[0m\u001b[0mcentroids\u001b[0m\u001b[1;33m,\u001b[0m\u001b[0mlabels\u001b[0m\u001b[1;33m)\u001b[0m\u001b[1;33m\u001b[0m\u001b[0m\n",
      "\u001b[0m\u001b[1;32m    552 \u001b[1;33m        \u001b[1;32melif\u001b[0m \u001b[0mself\u001b[0m\u001b[1;33m.\u001b[0m\u001b[0m_centroid_mode\u001b[0m \u001b[1;33m==\u001b[0m \u001b[1;34m\"iter\"\u001b[0m\u001b[1;33m:\u001b[0m\u001b[1;33m\u001b[0m\u001b[0m\n",
      "\u001b[0m\n",
      "ipdb> s\n",
      "--Call--\n",
      "> \u001b[1;32m/home/chiroptera/workspace/QCThesis/CUDA/K_Means3.py\u001b[0m(609)\u001b[0;36m_np_recompute_centroids_index\u001b[1;34m()\u001b[0m\n",
      "\u001b[1;32m    608 \u001b[1;33m\u001b[1;33m\u001b[0m\u001b[0m\n",
      "\u001b[0m\u001b[1;32m--> 609 \u001b[1;33m    \u001b[1;32mdef\u001b[0m \u001b[0m_np_recompute_centroids_index\u001b[0m\u001b[1;33m(\u001b[0m\u001b[0mself\u001b[0m\u001b[1;33m,\u001b[0m\u001b[0mdata\u001b[0m\u001b[1;33m,\u001b[0m\u001b[0mcentroids\u001b[0m\u001b[1;33m,\u001b[0m\u001b[0mlabels\u001b[0m\u001b[1;33m)\u001b[0m\u001b[1;33m:\u001b[0m\u001b[1;33m\u001b[0m\u001b[0m\n",
      "\u001b[0m\u001b[1;32m    610 \u001b[1;33m        \"\"\"\n",
      "\u001b[0m\n",
      "ipdb> l\n",
      "\u001b[0;32m    604 \u001b[0m            \u001b[1;31m#grouped_data[k] = np.array(grouped_data[k])\u001b[0m\u001b[1;33m\u001b[0m\u001b[1;33m\u001b[0m\u001b[0m\n",
      "\u001b[0;32m    605 \u001b[0m            \u001b[0mnew_centroids\u001b[0m\u001b[1;33m[\u001b[0m\u001b[0mk\u001b[0m\u001b[1;33m]\u001b[0m \u001b[1;33m=\u001b[0m \u001b[0mnp\u001b[0m\u001b[1;33m.\u001b[0m\u001b[0mmean\u001b[0m\u001b[1;33m(\u001b[0m\u001b[0mgrouped_data\u001b[0m\u001b[1;33m[\u001b[0m\u001b[0mk\u001b[0m\u001b[1;33m]\u001b[0m\u001b[1;33m,\u001b[0m\u001b[0maxis\u001b[0m\u001b[1;33m=\u001b[0m\u001b[1;36m0\u001b[0m\u001b[1;33m)\u001b[0m\u001b[1;33m\u001b[0m\u001b[0m\n",
      "\u001b[0;32m    606 \u001b[0m\u001b[1;33m\u001b[0m\u001b[0m\n",
      "\u001b[0;32m    607 \u001b[0m        \u001b[1;32mreturn\u001b[0m \u001b[0mnew_centroids\u001b[0m\u001b[1;33m\u001b[0m\u001b[0m\n",
      "\u001b[0;32m    608 \u001b[0m\u001b[1;33m\u001b[0m\u001b[0m\n",
      "\u001b[1;32m--> 609 \u001b[1;33m    \u001b[1;32mdef\u001b[0m \u001b[0m_np_recompute_centroids_index\u001b[0m\u001b[1;33m(\u001b[0m\u001b[0mself\u001b[0m\u001b[1;33m,\u001b[0m\u001b[0mdata\u001b[0m\u001b[1;33m,\u001b[0m\u001b[0mcentroids\u001b[0m\u001b[1;33m,\u001b[0m\u001b[0mlabels\u001b[0m\u001b[1;33m)\u001b[0m\u001b[1;33m:\u001b[0m\u001b[1;33m\u001b[0m\u001b[0m\n",
      "\u001b[0m\u001b[0;32m    610 \u001b[0m        \"\"\"\n",
      "\u001b[0;32m    611 \u001b[0m        \u001b[0mThis\u001b[0m \u001b[0monly\u001b[0m \u001b[0mworks\u001b[0m \u001b[0mwhen\u001b[0m \u001b[0mevery\u001b[0m \u001b[0mcluster\u001b[0m \u001b[0mhas\u001b[0m \u001b[0msome\u001b[0m \u001b[0mpoint\u001b[0m\u001b[1;33m.\u001b[0m\u001b[1;33m\u001b[0m\u001b[0m\n",
      "\u001b[0;32m    612 \u001b[0m        \u001b[0mThis\u001b[0m \u001b[0mmethod\u001b[0m \u001b[0msorts\u001b[0m \u001b[0mthe\u001b[0m \u001b[0mdata\u001b[0m \u001b[0mso\u001b[0m \u001b[0mthat\u001b[0m \u001b[0mdata\u001b[0m \u001b[0mpoints\u001b[0m \u001b[0mbelonging\u001b[0m \u001b[0mto\u001b[0m\u001b[1;33m\u001b[0m\u001b[0m\n",
      "\u001b[0;32m    613 \u001b[0m        \u001b[0mthe\u001b[0m \u001b[0msame\u001b[0m \u001b[0mcluster\u001b[0m \u001b[0mare\u001b[0m \u001b[0mnext\u001b[0m \u001b[0mto\u001b[0m \u001b[0meach\u001b[0m \u001b[0mother\u001b[0m\u001b[1;33m.\u001b[0m \u001b[0mThe\u001b[0m \u001b[0mlabels\u001b[0m \u001b[0mare\u001b[0m \u001b[0morganized\u001b[0m\u001b[1;33m\u001b[0m\u001b[0m\n",
      "\u001b[0;32m    614 \u001b[0m        \u001b[1;32min\u001b[0m \u001b[0mthe\u001b[0m \u001b[0msame\u001b[0m \u001b[0morder\u001b[0m\u001b[1;33m.\u001b[0m \u001b[0mThen\u001b[0m \u001b[0mwe\u001b[0m \u001b[0mget\u001b[0m \u001b[0mthe\u001b[0m \u001b[0mindeces\u001b[0m \u001b[0mwhere\u001b[0m \u001b[0mthe\u001b[0m \u001b[0mlabels\u001b[0m \u001b[0mchange\u001b[0m\u001b[1;33m.\u001b[0m\u001b[1;33m\u001b[0m\u001b[0m\n",
      "\n",
      "ipdb> n\n",
      "> \u001b[1;32m/home/chiroptera/workspace/QCThesis/CUDA/K_Means3.py\u001b[0m(623)\u001b[0;36m_np_recompute_centroids_index\u001b[1;34m()\u001b[0m\n",
      "\u001b[1;32m    622 \u001b[1;33m        \u001b[1;31m#dim = grouped_data[0][0].shape[1]\u001b[0m\u001b[1;33m\u001b[0m\u001b[1;33m\u001b[0m\u001b[0m\n",
      "\u001b[0m\u001b[1;32m--> 623 \u001b[1;33m        \u001b[0mN\u001b[0m\u001b[1;33m,\u001b[0m\u001b[0mD\u001b[0m \u001b[1;33m=\u001b[0m \u001b[0mdata\u001b[0m\u001b[1;33m.\u001b[0m\u001b[0mshape\u001b[0m\u001b[1;33m\u001b[0m\u001b[0m\n",
      "\u001b[0m\u001b[1;32m    624 \u001b[1;33m        \u001b[0mK\u001b[0m\u001b[1;33m,\u001b[0m\u001b[0mD\u001b[0m \u001b[1;33m=\u001b[0m \u001b[0mcentroids\u001b[0m\u001b[1;33m.\u001b[0m\u001b[0mshape\u001b[0m\u001b[1;33m\u001b[0m\u001b[0m\n",
      "\u001b[0m\n",
      "ipdb> n\n",
      "> \u001b[1;32m/home/chiroptera/workspace/QCThesis/CUDA/K_Means3.py\u001b[0m(624)\u001b[0;36m_np_recompute_centroids_index\u001b[1;34m()\u001b[0m\n",
      "\u001b[1;32m    623 \u001b[1;33m        \u001b[0mN\u001b[0m\u001b[1;33m,\u001b[0m\u001b[0mD\u001b[0m \u001b[1;33m=\u001b[0m \u001b[0mdata\u001b[0m\u001b[1;33m.\u001b[0m\u001b[0mshape\u001b[0m\u001b[1;33m\u001b[0m\u001b[0m\n",
      "\u001b[0m\u001b[1;32m--> 624 \u001b[1;33m        \u001b[0mK\u001b[0m\u001b[1;33m,\u001b[0m\u001b[0mD\u001b[0m \u001b[1;33m=\u001b[0m \u001b[0mcentroids\u001b[0m\u001b[1;33m.\u001b[0m\u001b[0mshape\u001b[0m\u001b[1;33m\u001b[0m\u001b[0m\n",
      "\u001b[0m\u001b[1;32m    625 \u001b[1;33m\u001b[1;33m\u001b[0m\u001b[0m\n",
      "\u001b[0m\n",
      "ipdb> n\n",
      "> \u001b[1;32m/home/chiroptera/workspace/QCThesis/CUDA/K_Means3.py\u001b[0m(627)\u001b[0;36m_np_recompute_centroids_index\u001b[1;34m()\u001b[0m\n",
      "\u001b[1;32m    626 \u001b[1;33m        \u001b[1;31m#new_centroids = centroids.copy()\u001b[0m\u001b[1;33m\u001b[0m\u001b[1;33m\u001b[0m\u001b[0m\n",
      "\u001b[0m\u001b[1;32m--> 627 \u001b[1;33m        \u001b[0mnew_centroids\u001b[0m \u001b[1;33m=\u001b[0m \u001b[0mnp\u001b[0m\u001b[1;33m.\u001b[0m\u001b[0mzeros_like\u001b[0m\u001b[1;33m(\u001b[0m\u001b[0mcentroids\u001b[0m\u001b[1;33m)\u001b[0m\u001b[1;33m\u001b[0m\u001b[0m\n",
      "\u001b[0m\u001b[1;32m    628 \u001b[1;33m        \u001b[0mcentroid_count\u001b[0m \u001b[1;33m=\u001b[0m \u001b[0mnp\u001b[0m\u001b[1;33m.\u001b[0m\u001b[0mzeros\u001b[0m\u001b[1;33m(\u001b[0m\u001b[0mK\u001b[0m\u001b[1;33m,\u001b[0m\u001b[0mdtype\u001b[0m\u001b[1;33m=\u001b[0m\u001b[0mnp\u001b[0m\u001b[1;33m.\u001b[0m\u001b[0mint32\u001b[0m\u001b[1;33m)\u001b[0m\u001b[1;33m\u001b[0m\u001b[0m\n",
      "\u001b[0m\n",
      "ipdb> p centroids\n",
      "array([[ 216.6035614 ,  110.47219849],\n",
      "       [ 217.25579834,  110.01852417],\n",
      "       [-876.98034668,  926.79016113],\n",
      "       [ 514.92333984,  444.15185547],\n",
      "       [-886.18908691, -314.11141968],\n",
      "       [ 439.67044067, -471.0425415 ],\n",
      "       [ 513.75311279,  443.17077637],\n",
      "       [ 510.79376221,  444.43930054],\n",
      "       [-875.30371094,  925.41430664],\n",
      "       [   9.25349331, -733.63146973],\n",
      "       [   8.68219376, -735.07696533],\n",
      "       [-877.60559082,  925.77496338]], dtype=float32)\n",
      "ipdb> b 645\n",
      "Breakpoint 2 at /home/chiroptera/workspace/QCThesis/CUDA/K_Means3.py:645\n",
      "ipdb> c\n",
      "> \u001b[1;32m/home/chiroptera/workspace/QCThesis/CUDA/K_Means3.py\u001b[0m(645)\u001b[0;36m_np_recompute_centroids_index\u001b[1;34m()\u001b[0m\n",
      "\u001b[1;32m    644 \u001b[1;33m        \u001b[1;31m# the labels plus 1\u001b[0m\u001b[1;33m\u001b[0m\u001b[1;33m\u001b[0m\u001b[0m\n",
      "\u001b[0m\u001b[1;31m2\u001b[1;32m-> 645 \u001b[1;33m        \u001b[0mnonEmptyClusters\u001b[0m \u001b[1;33m=\u001b[0m \u001b[0mlabelChangedIndex\u001b[0m\u001b[1;33m.\u001b[0m\u001b[0mshape\u001b[0m\u001b[1;33m[\u001b[0m\u001b[1;36m0\u001b[0m\u001b[1;33m]\u001b[0m \u001b[1;33m+\u001b[0m \u001b[1;36m1\u001b[0m\u001b[1;33m\u001b[0m\u001b[0m\n",
      "\u001b[0m\u001b[1;32m    646 \u001b[1;33m\u001b[1;33m\u001b[0m\u001b[0m\n",
      "\u001b[0m\n",
      "ipdb> p labelChangedIndex\n",
      "array([ 74, 100, 123, 343, 443, 643, 701, 723, 753, 892, 953])\n"
     ]
    }
   ],
   "source": [
    "%%debug -b K_Means3.py:129\n",
    "grouperCUDA = K_Means()\n",
    "grouperCUDA._centroid_mode=\"index\"\n",
    "grouperCUDA.fit(data, k, iters=iters, mode=\"cuda\", cuda_mem='manual',tol=1e-4,max_iters=300)"
   ]
  },
  {
   "cell_type": "code",
   "execution_count": 137,
   "metadata": {
    "collapsed": false
   },
   "outputs": [
    {
     "data": {
      "text/plain": [
       "<matplotlib.legend.Legend at 0x7fc4332bdcd0>"
      ]
     },
     "execution_count": 137,
     "metadata": {},
     "output_type": "execute_result"
    },
    {
     "data": {
      "image/png": "[encoded data removed]",
      "text/plain": [
       "<matplotlib.figure.Figure at 0x7fc433997890>"
      ]
     },
     "metadata": {},
     "output_type": "display_data"
    }
   ],
   "source": [
    "plt.plot(data[:,0],data[:,1],'.',label=\"data\")\n",
    "plt.plot(grouperCUDA.centroids[:,0],grouperCUDA.centroids[:,1],'yx',mew=2,label=\"centroids\")\n",
    "plt.legend(loc=\"best\")"
   ]
  },
  {
   "cell_type": "code",
   "execution_count": 138,
   "metadata": {
    "collapsed": false
   },
   "outputs": [
    {
     "name": "stdout",
     "output_type": "stream",
     "text": [
      "[[-918.75634766 -145.64936829]\n",
      " [ -64.28446198 -720.52331543]\n",
      " [ 363.15856934  773.35449219]\n",
      " [-832.78631592   24.07301712]\n",
      " [ 829.71936035  890.87976074]\n",
      " [ -64.91376495 -719.22406006]\n",
      " [ 360.14126587  772.96051025]\n",
      " [ 828.51098633  889.58758545]\n",
      " [ 362.34622192  775.08575439]\n",
      " [ -62.76221848 -720.59539795]\n",
      " [ 473.99346924  625.80926514]\n",
      " [ -63.76663971 -718.18017578]\n",
      " [ 794.01708984 -525.39868164]\n",
      " [-831.37640381   24.04743958]\n",
      " [-830.26257324   23.15267181]\n",
      " [ 792.61560059 -524.31463623]\n",
      " [ 595.59936523  728.44702148]\n",
      " [-830.19897461   24.76349258]\n",
      " [-917.85583496 -144.59342957]\n",
      " [-918.91094971 -143.73921204]\n",
      " [ 474.98580933  624.70465088]\n",
      " [-831.83007812   22.71658516]\n",
      " [ 472.62857056  625.62365723]\n",
      " [-648.30950928   71.68456268]\n",
      " [ 593.80645752  728.6116333 ]\n",
      " [ -62.94878387 -719.24151611]\n",
      " [-919.71350098  905.86236572]\n",
      " [-919.34136963  908.50592041]\n",
      " [ 361.8793335   772.27813721]\n",
      " [ 473.53219604  624.43823242]\n",
      " [ 361.16390991  773.49682617]\n",
      " [-917.85827637  907.82733154]\n",
      " [ 362.05319214  773.87353516]\n",
      " [-916.91662598 -143.6282196 ]\n",
      " [ 360.71557617  774.75769043]\n",
      " [-916.86968994 -145.54904175]\n",
      " [ 594.85620117  730.07214355]\n",
      " [ 475.40200806  626.09783936]\n",
      " [-918.01239014  906.14489746]\n",
      " [-649.42877197   72.70170593]\n",
      " [-647.1293335    73.8325882 ]\n",
      " [ 474.47375488  627.16540527]\n",
      " [-831.70550537   25.4189415 ]\n",
      " [-648.49890137   73.68340302]\n",
      " [ 827.98944092  891.2878418 ]\n",
      " [-647.10003662   72.34558105]\n",
      " [-919.06500244  907.09967041]\n",
      " [ 473.1217041   626.99200439]\n",
      " [ 792.36791992 -526.11083984]\n",
      " [-920.49237061  907.31176758]]\n",
      "unique labels:\t50\n"
     ]
    }
   ],
   "source": [
    "print grouperCUDA.centroids\n",
    "print 'unique labels:\\t', len(np.unique(grouperCUDA.labels_))"
   ]
  }
 ],
 "metadata": {
  "kernelspec": {
   "display_name": "Python 2",
   "language": "python",
   "name": "python2"
  },
  "language_info": {
   "codemirror_mode": {
    "name": "ipython",
    "version": 2
   },
   "file_extension": ".py",
   "mimetype": "text/x-python",
   "name": "python",
   "nbconvert_exporter": "python",
   "pygments_lexer": "ipython2",
   "version": "2.7.9"
  }
 },
 "nbformat": 4,
 "nbformat_minor": 0
}
