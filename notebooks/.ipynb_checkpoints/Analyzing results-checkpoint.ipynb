{
 "metadata": {
  "name": "",
  "signature": "sha256:2cedbd12e8cd403697c86a52fb7168250b6c8f97748473ee0aa93cc56a1c697a"
 },
 "nbformat": 3,
 "nbformat_minor": 0,
 "worksheets": []
}