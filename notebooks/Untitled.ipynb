{
 "cells": [
  {
   "cell_type": "code",
   "execution_count": 1,
   "metadata": {
    "collapsed": false
   },
   "outputs": [
    {
     "name": "stdout",
     "output_type": "stream",
     "text": [
      "Populating the interactive namespace from numpy and matplotlib\n"
     ]
    }
   ],
   "source": [
    "%pylab inline"
   ]
  },
  {
   "cell_type": "code",
   "execution_count": 2,
   "metadata": {
    "collapsed": false
   },
   "outputs": [
    {
     "name": "stdout",
     "output_type": "stream",
     "text": [
      "/home/chiroptera/workspace/QCThesis/CUDA\n"
     ]
    }
   ],
   "source": [
    "cd /home/chiroptera/workspace/QCThesis/CUDA/"
   ]
  },
  {
   "cell_type": "code",
   "execution_count": 3,
   "metadata": {
    "collapsed": false
   },
   "outputs": [
    {
     "data": {
      "text/plain": [
       "<module 'K_Means3' from 'K_Means3.pyc'>"
      ]
     },
     "execution_count": 3,
     "metadata": {},
     "output_type": "execute_result"
    }
   ],
   "source": [
    "import K_Means3\n",
    "from K_Means3 import *\n",
    "reload(K_Means3)"
   ]
  },
  {
   "cell_type": "code",
   "execution_count": 4,
   "metadata": {
    "collapsed": true
   },
   "outputs": [],
   "source": [
    "from sklearn import datasets # generate gaussian mixture\n",
    "\n",
    "def generateData(n,d,k):\n",
    "    n_int = np.int(n)\n",
    "\n",
    "    # Generate data\n",
    "    data, groundTruth = datasets.make_blobs(n_samples=n_int,n_features=d,centers=k,\n",
    "                                            center_box=(-1000.0,1000.0))\n",
    "    data = data.astype(np.float32)  \n",
    "    \n",
    "    return data,groundTruth"
   ]
  },
  {
   "cell_type": "code",
   "execution_count": 5,
   "metadata": {
    "collapsed": false
   },
   "outputs": [
    {
     "data": {
      "text/plain": [
       "[<matplotlib.lines.Line2D at 0x7f476922bf10>]"
      ]
     },
     "execution_count": 5,
     "metadata": {},
     "output_type": "execute_result"
    },
    {
     "data": {
      "image/png": "[encoded data removed]",
      "text/plain": [
       "<matplotlib.figure.Figure at 0x7f47727f0110>"
      ]
     },
     "metadata": {},
     "output_type": "display_data"
    }
   ],
   "source": [
    "data,labels = generateData(1e3,2,10)\n",
    "\n",
    "plt.plot(data[:,0],data[:,1],'.')"
   ]
  },
  {
   "cell_type": "code",
   "execution_count": 149,
   "metadata": {
    "collapsed": true
   },
   "outputs": [],
   "source": [
    "k=12\n",
    "iters=100"
   ]
  },
  {
   "cell_type": "code",
   "execution_count": 202,
   "metadata": {
    "collapsed": false
   },
   "outputs": [],
   "source": [
    "#%%debug -b K_Means3.py:680\n",
    "grouperCUDA = K_Means()\n",
    "grouperCUDA._centroid_mode=\"index\"\n",
    "grouperCUDA._cuda_mem=\"manual\"\n",
    "grouperCUDA.fit(data, k, iters=iters, mode=\"cuda\", cuda_mem='manual',tol=1e-4,max_iters=300)"
   ]
  },
  {
   "cell_type": "code",
   "execution_count": 201,
   "metadata": {
    "collapsed": false
   },
   "outputs": [
    {
     "data": {
      "text/plain": [
       "<matplotlib.legend.Legend at 0x7fc4326d4810>"
      ]
     },
     "execution_count": 201,
     "metadata": {},
     "output_type": "execute_result"
    },
    {
     "data": {
      "image/png": "[encoded data removed]",
      "text/plain": [
       "<matplotlib.figure.Figure at 0x7fc432269390>"
      ]
     },
     "metadata": {},
     "output_type": "display_data"
    }
   ],
   "source": [
    "plt.plot(data[:,0],data[:,1],'.',label=\"data\")\n",
    "plt.plot(grouperCUDA.centroids[:,0],grouperCUDA.centroids[:,1],'yx',mew=2,label=\"centroids\")\n",
    "plt.legend(loc=\"best\")"
   ]
  },
  {
   "cell_type": "code",
   "execution_count": 191,
   "metadata": {
    "collapsed": false
   },
   "outputs": [
    {
     "name": "stdout",
     "output_type": "stream",
     "text": [
      "[[ 215.8084259   109.30992126]\n",
      " [ 513.17559814  443.9781189 ]\n",
      " [ 215.45011902  111.23795319]\n",
      " [ 745.8984375   635.62390137]\n",
      " [ 167.34960938 -540.78851318]\n",
      " [-887.07647705 -312.77636719]\n",
      " [ 936.90045166 -715.96697998]\n",
      " [ 747.67810059  635.715271  ]\n",
      " [ 899.07055664  592.56072998]\n",
      " [-876.82330322  925.51367188]\n",
      " [ 217.24656677  110.52140045]\n",
      " [ 745.70635986  637.43292236]]\n",
      "unique labels:\t12\n",
      "12\n"
     ]
    }
   ],
   "source": [
    "print grouperCUDA.centroids\n",
    "print 'unique labels:\\t', len(np.unique(grouperCUDA.labels_))\n",
    "print len(grouperCUDA.partition)"
   ]
  },
  {
   "cell_type": "code",
   "execution_count": 196,
   "metadata": {
    "collapsed": false
   },
   "outputs": [],
   "source": [
    "a=grouperCUDA.partition[0]\n",
    "VIstring = ','.join(['%d' % num for num in a])"
   ]
  },
  {
   "cell_type": "code",
   "execution_count": 197,
   "metadata": {
    "collapsed": false
   },
   "outputs": [
    {
     "data": {
      "text/plain": [
       "'848,326,799,794,963,885,886,559,560,577,327,603,747,949,180,719,934,718,214,217,920,753,810,793,419,462,825,432,864,118,117,980,995,979,452'"
      ]
     },
     "execution_count": 197,
     "metadata": {},
     "output_type": "execute_result"
    }
   ],
   "source": [
    "VIstring"
   ]
  },
  {
   "cell_type": "code",
   "execution_count": 198,
   "metadata": {
    "collapsed": true
   },
   "outputs": [],
   "source": []
  }
 ],
 "metadata": {
  "kernelspec": {
   "display_name": "Python 2",
   "language": "python",
   "name": "python2"
  },
  "language_info": {
   "codemirror_mode": {
    "name": "ipython",
    "version": 2
   },
   "file_extension": ".py",
   "mimetype": "text/x-python",
   "name": "python",
   "nbconvert_exporter": "python",
   "pygments_lexer": "ipython2",
   "version": "2.7.9"
  }
 },
 "nbformat": 4,
 "nbformat_minor": 0
}
