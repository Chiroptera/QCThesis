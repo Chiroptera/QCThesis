{
 "cells": [
  {
   "cell_type": "code",
   "execution_count": 1,
   "metadata": {
    "collapsed": false
   },
   "outputs": [
    {
     "name": "stdout",
     "output_type": "stream",
     "text": [
      "Populating the interactive namespace from numpy and matplotlib\n"
     ]
    }
   ],
   "source": [
    "%pylab inline"
   ]
  },
  {
   "cell_type": "code",
   "execution_count": 5,
   "metadata": {
    "collapsed": false
   },
   "outputs": [
    {
     "name": "stdout",
     "output_type": "stream",
     "text": [
      "/home/chiroptera/workspace/QCThesis/CUDA\n"
     ]
    }
   ],
   "source": [
    "cd /home/chiroptera/workspace/QCThesis/CUDA/"
   ]
  },
  {
   "cell_type": "code",
   "execution_count": 188,
   "metadata": {
    "collapsed": false
   },
   "outputs": [
    {
     "data": {
      "text/plain": [
       "<module 'K_Means3' from 'K_Means3.pyc'>"
      ]
     },
     "execution_count": 188,
     "metadata": {},
     "output_type": "execute_result"
    }
   ],
   "source": [
    "import K_Means3\n",
    "from K_Means3 import *\n",
    "reload(K_Means3)"
   ]
  },
  {
   "cell_type": "code",
   "execution_count": 11,
   "metadata": {
    "collapsed": true
   },
   "outputs": [],
   "source": [
    "from sklearn import datasets # generate gaussian mixture\n",
    "\n",
    "def generateData(n,d,k):\n",
    "    n_int = np.int(n)\n",
    "\n",
    "    # Generate data\n",
    "    data, groundTruth = datasets.make_blobs(n_samples=n_int,n_features=d,centers=k,\n",
    "                                            center_box=(-1000.0,1000.0))\n",
    "    data = data.astype(np.float32)  \n",
    "    \n",
    "    return data,groundTruth"
   ]
  },
  {
   "cell_type": "code",
   "execution_count": 148,
   "metadata": {
    "collapsed": false
   },
   "outputs": [
    {
     "data": {
      "text/plain": [
       "[<matplotlib.lines.Line2D at 0x7fc4331b7990>]"
      ]
     },
     "execution_count": 148,
     "metadata": {},
     "output_type": "execute_result"
    },
    {
     "data": {
      "image/png": "[encoded data removed]",
      "text/plain": [
       "<matplotlib.figure.Figure at 0x7fc4331b5590>"
      ]
     },
     "metadata": {},
     "output_type": "display_data"
    }
   ],
   "source": [
    "data,labels = generateData(1e3,2,10)\n",
    "\n",
    "plt.plot(data[:,0],data[:,1],'.')"
   ]
  },
  {
   "cell_type": "code",
   "execution_count": 149,
   "metadata": {
    "collapsed": true
   },
   "outputs": [],
   "source": [
    "k=12\n",
    "iters=100"
   ]
  },
  {
   "cell_type": "code",
   "execution_count": 189,
   "metadata": {
    "collapsed": false
   },
   "outputs": [],
   "source": [
    "#%%debug -b K_Means3.py:680\n",
    "grouperCUDA = K_Means()\n",
    "grouperCUDA._centroid_mode=\"index\"\n",
    "grouperCUDA.fit(data, k, iters=iters, mode=\"cuda\", cuda_mem='manual',tol=1e-4,max_iters=300)"
   ]
  },
  {
   "cell_type": "code",
   "execution_count": 182,
   "metadata": {
    "collapsed": false
   },
   "outputs": [
    {
     "data": {
      "text/plain": [
       "<matplotlib.legend.Legend at 0x7fc433221a90>"
      ]
     },
     "execution_count": 182,
     "metadata": {},
     "output_type": "execute_result"
    },
    {
     "data": {
      "image/png": "[encoded data removed]",
      "text/plain": [
       "<matplotlib.figure.Figure at 0x7fc432361e50>"
      ]
     },
     "metadata": {},
     "output_type": "display_data"
    }
   ],
   "source": [
    "plt.plot(data[:,0],data[:,1],'.',label=\"data\")\n",
    "plt.plot(grouperCUDA.centroids[:,0],grouperCUDA.centroids[:,1],'yx',mew=2,label=\"centroids\")\n",
    "plt.legend(loc=\"best\")"
   ]
  },
  {
   "cell_type": "code",
   "execution_count": 191,
   "metadata": {
    "collapsed": false
   },
   "outputs": [
    {
     "name": "stdout",
     "output_type": "stream",
     "text": [
      "[[ 215.8084259   109.30992126]\n",
      " [ 513.17559814  443.9781189 ]\n",
      " [ 215.45011902  111.23795319]\n",
      " [ 745.8984375   635.62390137]\n",
      " [ 167.34960938 -540.78851318]\n",
      " [-887.07647705 -312.77636719]\n",
      " [ 936.90045166 -715.96697998]\n",
      " [ 747.67810059  635.715271  ]\n",
      " [ 899.07055664  592.56072998]\n",
      " [-876.82330322  925.51367188]\n",
      " [ 217.24656677  110.52140045]\n",
      " [ 745.70635986  637.43292236]]\n",
      "unique labels:\t12\n",
      "12\n"
     ]
    }
   ],
   "source": [
    "print grouperCUDA.centroids\n",
    "print 'unique labels:\\t', len(np.unique(grouperCUDA.labels_))\n",
    "print len(grouperCUDA.partition)"
   ]
  }
 ],
 "metadata": {
  "kernelspec": {
   "display_name": "Python 2",
   "language": "python",
   "name": "python2"
  },
  "language_info": {
   "codemirror_mode": {
    "name": "ipython",
    "version": 2
   },
   "file_extension": ".py",
   "mimetype": "text/x-python",
   "name": "python",
   "nbconvert_exporter": "python",
   "pygments_lexer": "ipython2",
   "version": "2.7.9"
  }
 },
 "nbformat": 4,
 "nbformat_minor": 0
}
