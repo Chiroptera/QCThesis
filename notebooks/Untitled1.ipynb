{
 "cells": [
  {
   "cell_type": "code",
   "execution_count": 1,
   "metadata": {
    "collapsed": false
   },
   "outputs": [
    {
     "name": "stderr",
     "output_type": "stream",
     "text": [
      "/home/chiroptera/anaconda/lib/python2.7/site-packages/numba/cuda/decorators.py:106: UserWarning: autojit is deprecated and will be removed in a future release. Use jit instead.\n",
      "  warn('autojit is deprecated and will be removed in a future release. Use jit instead.')\n"
     ]
    }
   ],
   "source": [
    "import numpy as np\n",
    "import MyML.EAC.full as myEacFull\n",
    "import MyML.EAC.sparse as myEacSp\n",
    "import MyML.EAC.eac as myEac\n",
    "import MyML.cluster.K_Means3 as myKM\n",
    "import MyML.helper.partition as myEacPart"
   ]
  },
  {
   "cell_type": "code",
   "execution_count": 2,
   "metadata": {
    "collapsed": false
   },
   "outputs": [
    {
     "name": "stdout",
     "output_type": "stream",
     "text": [
      "CPU times: user 32 µs, sys: 2 µs, total: 34 µs\n",
      "Wall time: 42 µs\n",
      "CPU times: user 1.49 s, sys: 111 ms, total: 1.6 s\n",
      "Wall time: 1.61 s\n"
     ]
    }
   ],
   "source": [
    "from sklearn.datasets import make_blobs\n",
    "\n",
    "n_samples = 2000\n",
    "data,gt = make_blobs(n_samples)\n",
    "%time data = data.astype(np.float32)\n",
    "\n",
    "generator = myKM.K_Means()\n",
    "generator._MAX_THREADS_BLOCK = 256\n",
    "%time ensemble = myEacPart.generateEnsemble(data, generator, n_clusters=[25,100],npartitions=100)"
   ]
  },
  {
   "cell_type": "code",
   "execution_count": 8,
   "metadata": {
    "collapsed": false
   },
   "outputs": [
    {
     "data": {
      "text/plain": [
       "<module 'MyML.cluster.eac' from '/home/chiroptera/workspace/QCThesis/MyML/cluster/eac.pyc'>"
      ]
     },
     "execution_count": 8,
     "metadata": {},
     "output_type": "execute_result"
    }
   ],
   "source": [
    "reload(myEacFull)\n",
    "reload(myEacPart)\n",
    "reload(myEacSp)\n",
    "reload(myEac)"
   ]
  },
  {
   "cell_type": "code",
   "execution_count": 3,
   "metadata": {
    "collapsed": false,
    "scrolled": true
   },
   "outputs": [
    {
     "name": "stdout",
     "output_type": "stream",
     "text": [
      "CPU times: user 186 µs, sys: 11 µs, total: 197 µs\n",
      "Wall time: 144 µs\n",
      "CPU times: user 277 ms, sys: 7.77 ms, total: 284 ms\n",
      "Wall time: 312 ms\n"
     ]
    }
   ],
   "source": [
    "%time full = myEacFull.EAC_FULL(n_samples, condensed=False)\n",
    "%time full.update_ensemble(ensemble)"
   ]
  },
  {
   "cell_type": "code",
   "execution_count": 4,
   "metadata": {
    "collapsed": false
   },
   "outputs": [
    {
     "name": "stdout",
     "output_type": "stream",
     "text": [
      "CPU times: user 254 µs, sys: 0 ns, total: 254 µs\n",
      "Wall time: 190 µs\n",
      "CPU times: user 323 ms, sys: 20.2 ms, total: 343 ms\n",
      "Wall time: 338 ms\n"
     ]
    }
   ],
   "source": [
    "%time cfull = myEacFull.EAC_FULL(n_samples, condensed=True)\n",
    "%time cfull.update_ensemble(ensemble)"
   ]
  },
  {
   "cell_type": "code",
   "execution_count": 5,
   "metadata": {
    "collapsed": false
   },
   "outputs": [
    {
     "data": {
      "text/plain": [
       "True"
      ]
     },
     "execution_count": 5,
     "metadata": {},
     "output_type": "execute_result"
    }
   ],
   "source": [
    "(full.coassoc == cfull.todense()).all()"
   ]
  },
  {
   "cell_type": "code",
   "execution_count": 45,
   "metadata": {
    "collapsed": false
   },
   "outputs": [
    {
     "name": "stdout",
     "output_type": "stream",
     "text": [
      "CPU times: user 116 µs, sys: 2 µs, total: 118 µs\n",
      "Wall time: 105 µs\n",
      "CPU times: user 3.08 s, sys: 3.58 ms, total: 3.09 s\n",
      "Wall time: 3.09 s\n"
     ]
    }
   ],
   "source": [
    "max_assocs = myEacSp._compute_max_assocs_from_ensemble(ensemble) * 3\n",
    "%time sp = myEacSp.EAC_CSR(n_samples, max_assocs, condensed=False, sort_mode=\"numpy\")\n",
    "%time sp.update_ensemble(ensemble)"
   ]
  },
  {
   "cell_type": "code",
   "execution_count": 46,
   "metadata": {
    "collapsed": false
   },
   "outputs": [
    {
     "name": "stdout",
     "output_type": "stream",
     "text": [
      "CPU times: user 121 µs, sys: 3 µs, total: 124 µs\n",
      "Wall time: 110 µs\n",
      "CPU times: user 864 ms, sys: 263 µs, total: 865 ms\n",
      "Wall time: 849 ms\n"
     ]
    }
   ],
   "source": [
    "max_assocs = myEacSp._compute_max_assocs_from_ensemble(ensemble) * 3\n",
    "%time sp2 = myEacSp.EAC_CSR(n_samples, max_assocs, condensed=False, sort_mode=\"surgical\")\n",
    "%time sp2.update_ensemble(ensemble)"
   ]
  },
  {
   "cell_type": "code",
   "execution_count": 37,
   "metadata": {
    "collapsed": false
   },
   "outputs": [
    {
     "data": {
      "text/plain": [
       "True"
      ]
     },
     "execution_count": 37,
     "metadata": {},
     "output_type": "execute_result"
    }
   ],
   "source": [
    "sp._condense(keep_degree=True)\n",
    "sp2._condense(keep_degree=True)\n",
    "(sp.todense() == sp2.todense()).all()"
   ]
  },
  {
   "cell_type": "code",
   "execution_count": 47,
   "metadata": {
    "collapsed": false
   },
   "outputs": [
    {
     "name": "stdout",
     "output_type": "stream",
     "text": [
      "CPU times: user 274 µs, sys: 7 µs, total: 281 µs\n",
      "Wall time: 224 µs\n",
      "CPU times: user 1.98 s, sys: 3.77 ms, total: 1.98 s\n",
      "Wall time: 1.98 s\n"
     ]
    }
   ],
   "source": [
    "max_assocs = myEacSp._compute_max_assocs_from_ensemble(ensemble) * 3\n",
    "%time csp = myEacSp.EAC_CSR(n_samples, max_assocs, condensed=True, sort_mode=\"numpy\")\n",
    "%time csp.update_ensemble(ensemble)"
   ]
  },
  {
   "cell_type": "code",
   "execution_count": 39,
   "metadata": {
    "collapsed": false
   },
   "outputs": [
    {
     "name": "stdout",
     "output_type": "stream",
     "text": [
      "CPU times: user 124 µs, sys: 4 µs, total: 128 µs\n",
      "Wall time: 113 µs\n",
      "CPU times: user 496 ms, sys: 8.01 ms, total: 504 ms\n",
      "Wall time: 499 ms\n"
     ]
    }
   ],
   "source": [
    "max_assocs = myEacSp._compute_max_assocs_from_ensemble(ensemble) * 3\n",
    "%time csp2 = myEacSp.EAC_CSR(n_samples, max_assocs, condensed=True, sort_mode=\"surgical\")\n",
    "%time csp2.update_ensemble(ensemble)"
   ]
  },
  {
   "cell_type": "code",
   "execution_count": 40,
   "metadata": {
    "collapsed": false
   },
   "outputs": [
    {
     "name": "stdout",
     "output_type": "stream",
     "text": [
      "condensed numpy True\n",
      "condensed surgical True\n"
     ]
    }
   ],
   "source": [
    "csp._condense(keep_degree=True)\n",
    "csp2._condense(keep_degree=True)\n",
    "\n",
    "print \"condensed numpy\", ((csp.todense() + csp.todense().T) == full.coassoc).all()\n",
    "print \"condensed surgical\", ((csp2.todense() + csp2.todense().T) == full.coassoc).all()"
   ]
  },
  {
   "cell_type": "code",
   "execution_count": 78,
   "metadata": {
    "collapsed": false
   },
   "outputs": [
    {
     "name": "stdout",
     "output_type": "stream",
     "text": [
      "CPU times: user 468 µs, sys: 76 µs, total: 544 µs\n",
      "Wall time: 361 µs\n",
      "CPU times: user 513 ms, sys: 79 µs, total: 513 ms\n",
      "Wall time: 547 ms\n"
     ]
    }
   ],
   "source": [
    "max_assocs = myEacSp._compute_max_assocs_from_ensemble(ensemble) * 3\n",
    "%time csp2 = myEacSp.EAC_CSR(n_samples, max_assocs, max_assocs_type='linear', condensed=True, sort_mode=\"surgical\")\n",
    "%time csp2.update_ensemble(ensemble)"
   ]
  },
  {
   "cell_type": "code",
   "execution_count": 79,
   "metadata": {
    "collapsed": true
   },
   "outputs": [],
   "source": [
    "csp2._condense(keep_degree=True)"
   ]
  },
  {
   "cell_type": "code",
   "execution_count": 80,
   "metadata": {
    "collapsed": true
   },
   "outputs": [
    {
     "name": "stdout",
     "output_type": "stream",
     "text": [
      "condensed surgical"
     ]
    },
    {
     "ename": "NameError",
     "evalue": "name 'full' is not defined",
     "output_type": "error",
     "traceback": [
      "\u001b[1;31m---------------------------------------------------------------------------\u001b[0m",
      "\u001b[1;31mNameError\u001b[0m                                 Traceback (most recent call last)",
      "\u001b[1;32m<ipython-input-80-518d48c3f765>\u001b[0m in \u001b[0;36m<module>\u001b[1;34m()\u001b[0m\n\u001b[1;32m----> 1\u001b[1;33m \u001b[1;32mprint\u001b[0m \u001b[1;34m\"condensed surgical\"\u001b[0m\u001b[1;33m,\u001b[0m \u001b[1;33m(\u001b[0m\u001b[1;33m(\u001b[0m\u001b[0mcsp2\u001b[0m\u001b[1;33m.\u001b[0m\u001b[0mtodense\u001b[0m\u001b[1;33m(\u001b[0m\u001b[1;33m)\u001b[0m \u001b[1;33m+\u001b[0m \u001b[0mcsp2\u001b[0m\u001b[1;33m.\u001b[0m\u001b[0mtodense\u001b[0m\u001b[1;33m(\u001b[0m\u001b[1;33m)\u001b[0m\u001b[1;33m.\u001b[0m\u001b[0mT\u001b[0m\u001b[1;33m)\u001b[0m \u001b[1;33m==\u001b[0m \u001b[0mfull\u001b[0m\u001b[1;33m.\u001b[0m\u001b[0mcoassoc\u001b[0m\u001b[1;33m)\u001b[0m\u001b[1;33m.\u001b[0m\u001b[0mall\u001b[0m\u001b[1;33m(\u001b[0m\u001b[1;33m)\u001b[0m\u001b[1;33m\u001b[0m\u001b[0m\n\u001b[0m",
      "\u001b[1;31mNameError\u001b[0m: name 'full' is not defined"
     ]
    }
   ],
   "source": [
    "print \"condensed surgical\", ((csp2.todense() + csp2.todense().T) == full.coassoc).all()"
   ]
  },
  {
   "cell_type": "markdown",
   "metadata": {},
   "source": [
    "# Linkage sparse"
   ]
  },
  {
   "cell_type": "code",
   "execution_count": 81,
   "metadata": {
    "collapsed": false
   },
   "outputs": [
    {
     "name": "stdout",
     "output_type": "stream",
     "text": [
      "\n"
     ]
    }
   ],
   "source": [
    "import scipy.sparse.csgraph as csgraph"
   ]
  },
  {
   "cell_type": "code",
   "execution_count": 82,
   "metadata": {
    "collapsed": false
   },
   "outputs": [],
   "source": [
    "coassoc = csp2.csr.copy()\n",
    "coassoc.data = coassoc.data.max() + 1 - coassoc.data"
   ]
  },
  {
   "cell_type": "code",
   "execution_count": 83,
   "metadata": {
    "collapsed": false
   },
   "outputs": [],
   "source": [
    "mst = csgraph._min_spanning_tree.minimum_spanning_tree(coassoc).astype(np.uint8)"
   ]
  },
  {
   "cell_type": "code",
   "execution_count": 84,
   "metadata": {
    "collapsed": false
   },
   "outputs": [
    {
     "data": {
      "text/plain": [
       "<Container object of 101 artists>"
      ]
     },
     "execution_count": 84,
     "metadata": {},
     "output_type": "execute_result"
    },
    {
     "data": {
      "image/png": "[encoded data removed]",
      "text/plain": [
       "<matplotlib.figure.Figure at 0x7f77471141d0>"
      ]
     },
     "metadata": {},
     "output_type": "display_data"
    }
   ],
   "source": [
    "bcount = np.bincount(mst.data)\n",
    "plt.bar(np.arange(bcount.size), bcount)"
   ]
  },
  {
   "cell_type": "code",
   "execution_count": 67,
   "metadata": {
    "collapsed": true
   },
   "outputs": [],
   "source": [
    "n_partitions = 100"
   ]
  },
  {
   "cell_type": "code",
   "execution_count": 86,
   "metadata": {
    "collapsed": false
   },
   "outputs": [
    {
     "data": {
      "text/plain": [
       "<2000x2000 sparse matrix of type '<type 'numpy.uint8'>'\n",
       "\twith 1998 stored elements in Compressed Sparse Row format>"
      ]
     },
     "execution_count": 86,
     "metadata": {},
     "output_type": "execute_result"
    }
   ],
   "source": [
    "mst"
   ]
  },
  {
   "cell_type": "code",
   "execution_count": 138,
   "metadata": {
    "collapsed": false
   },
   "outputs": [
    {
     "data": {
      "text/plain": [
       "array([0, 1], dtype=int32)"
      ]
     },
     "execution_count": 138,
     "metadata": {},
     "output_type": "execute_result"
    }
   ],
   "source": [
    "np.unique(csgraph.connected_components(mst)[1])"
   ]
  },
  {
   "cell_type": "code",
   "execution_count": 65,
   "metadata": {
    "collapsed": true
   },
   "outputs": [],
   "source": [
    "# converting to diassociations\n",
    "coassoc.data = coassoc.data.max() + 1 - coassoc.data\n",
    "\n",
    "# get minimum spanning tree\n",
    "mst = csgraph._min_spanning_tree.minimum_spanning_tree(coassoc).astype(np.uint8)\n",
    "\n",
    "# compute number of disconnected components\n",
    "n_disconnects = mst.shape[0] - 1 - mst.nnz\n",
    "\n",
    "# sort associations by weights\n",
    "asort = mst.data.argsort()\n",
    "sorted_weights = mst.data[asort]\n",
    "\n",
    "if n_clusters = 0:\n",
    "    # compute lifetimes\n",
    "    lifetimes = sorted_weights[1:] - sorted_weights[:-1]\n",
    "\n",
    "    # add 1 to n_partitions as the maximum weight because I also added\n",
    "    # 1 when converting to diassoc to avoid having zero weights\n",
    "    disconnect_lifetime = n_partitions + 1 - sorted_weights[-1]\n",
    "\n",
    "    # maximum lifetime\n",
    "    m_index = np.argmax(lifetimes)\n",
    "    th = lifetimes[m_index]\n",
    "\n",
    "    # get number of clusters from lifetimes\n",
    "    indices = np.where(mst.data > mst.data[m_index])[0]\n",
    "    if indices.size == 0:\n",
    "        cont = 1\n",
    "    else:\n",
    "        cont = indices.size + 1\n",
    "\n",
    "    #testing the situation when only 1 cluster is present\n",
    "    # if maximum lifetime is smaller than 2 times the minimum\n",
    "    # don't make any cuts (= 1 cluster)\n",
    "    # max>2*min_interval -> nc=1\n",
    "    close_to_zero_indices = np.where(np.isclose(lifetimes, 0))\n",
    "    minimum = np.min(lifetimes[close_to_zero_indices])\n",
    "\n",
    "    if th < 2 * minimum:\n",
    "        cont = 1\n",
    "\n",
    "    # cut associations if maximum lifetime is bigger than disconnect lifetime\n",
    "    if th <= disconnect_lifetime:\n",
    "        cont += n_disconnects\n",
    "\n",
    "    nc_stable = cont\n",
    "else:\n",
    "    nc_stable = n_clusters\n",
    "\n",
    "if nc_stable > n_disconnects:\n",
    "    "
   ]
  },
  {
   "cell_type": "code",
   "execution_count": 66,
   "metadata": {
    "collapsed": false
   },
   "outputs": [
    {
     "data": {
      "text/plain": [
       "2"
      ]
     },
     "execution_count": 66,
     "metadata": {},
     "output_type": "execute_result"
    }
   ],
   "source": [
    "nc_stable"
   ]
  },
  {
   "cell_type": "code",
   "execution_count": null,
   "metadata": {
    "collapsed": true
   },
   "outputs": [],
   "source": [
    "        if n_clusters == 0:\n",
    "            # lifetime is here computed as the distance difference between \n",
    "            # any two consecutive nodes, i.e. the distance between passing\n",
    "            # from n to n-1 clusters\n",
    "\n",
    "            lifetimes = Z[1:,2] - Z[:-1,2]\n",
    "\n",
    "            m_index = np.argmax(lifetimes)\n",
    "\n",
    "            # Z is ordered in increasing order by weight of connection\n",
    "            # the connection whose weight is higher than the one specified\n",
    "            # by m_index MUST be the one from which the jump originated the\n",
    "            # maximum lifetime; all connections above that (and including)\n",
    "            # will be removed for the final clustering\n",
    "            indices = np.where(Z[:,2] > Z[m_index, 2])[0]\n",
    "            #indices = np.arange(m_index+1, Z.shape[0])\n",
    "            if indices.size == 0:\n",
    "                cont = 1\n",
    "            else:\n",
    "                cont = indices.size + 1\n",
    "\n",
    "            # store maximum lifetime\n",
    "            th = lifetimes[m_index]\n",
    "\n",
    "            #testing the situation when only 1 cluster is present\n",
    "            # if maximum lifetime is smaller than 2 times the minimum\n",
    "            # don't make any cuts (= 1 cluster)\n",
    "            #max>2*min_interval -> nc=1\n",
    "            close_to_zero_indices = np.where(np.isclose(lifetimes, 0))\n",
    "            minimum = np.min(lifetimes[close_to_zero_indices])\n",
    "\n",
    "            if th < 2 * minimum:\n",
    "                cont = 1\n",
    "\n",
    "            nc_stable = cont\n",
    "\n",
    "        else:\n",
    "            nc_stable = n_clusters\n",
    "\n",
    "        if nc_stable > 1:\n",
    "            # only the labels are of interest\n",
    "\n",
    "            labels = labels_from_Z(Z, n_clusters=nc_stable)\n",
    "\n",
    "            # rename labels\n",
    "            i=0\n",
    "            for l in np.unique(labels):\n",
    "                labels[labels == l] = i\n",
    "                i += 1\n",
    "        else:\n",
    "            labels = np.zeros(self.n_samples, dtype = np.int32)\n",
    "\n",
    "        self.labels_ = labels\n",
    "        return labels"
   ]
  },
  {
   "cell_type": "markdown",
   "metadata": {},
   "source": [
    "# plot stuff"
   ]
  },
  {
   "cell_type": "code",
   "execution_count": 38,
   "metadata": {
    "collapsed": false
   },
   "outputs": [],
   "source": [
    "import matplotlib.pyplot as plt\n",
    "%matplotlib inline"
   ]
  },
  {
   "cell_type": "code",
   "execution_count": 60,
   "metadata": {
    "collapsed": false
   },
   "outputs": [
    {
     "data": {
      "text/plain": [
       "<matplotlib.text.Text at 0x7f284fbc2ad0>"
      ]
     },
     "execution_count": 60,
     "metadata": {},
     "output_type": "execute_result"
    },
    {
     "data": {
      "image/png": "[encoded data removed]",
      "text/plain": [
       "<matplotlib.figure.Figure at 0x7f2864df5490>"
      ]
     },
     "metadata": {},
     "output_type": "display_data"
    }
   ],
   "source": [
    "fig = plt.figure(figsize=(16,6))\n",
    "\n",
    "x=np.arange(n_samples)\n",
    "\n",
    "ax = fig.add_subplot(1,2,1)\n",
    "ax.bar(x, sp.degree[:-1])\n",
    "ax.plot([0,n_samples],[max_assocs, max_assocs])\n",
    "fit = np.polyfit(x,sp.degree[:-1],1) # linear regression of degree\n",
    "fit_fn = np.poly1d(fit) \n",
    "ax.plot(x, fit_fn(x))\n",
    "\n",
    "ax.set_title(\"full sparse matrix\")\n",
    "ax.set_xlabel(\"sample id\")\n",
    "ax.set_ylabel(\"num. assocs\")\n",
    "\n",
    "ax = fig.add_subplot(1,2,2)\n",
    "ax.bar(x, csp.degree[:-1]) # plot degree\n",
    "ax.plot([0,n_samples],[max_assocs, max_assocs]) # plot max_assocs alloc\n",
    "\n",
    "allocated_degree = csp2.indptr[1:] - csp2.indptr[:-1] # plot linear assoc\n",
    "ax.plot(np.arange(sp.n_samples),allocated_degree)\n",
    "\n",
    "fit = np.polyfit(x,csp.degree[:-1],1) # linear regression of degree\n",
    "fit_fn = np.poly1d(fit) \n",
    "ax.plot(x, fit_fn(x))\n",
    "\n",
    "ax.set_title(\"condensed sparse matrix\")\n",
    "ax.set_xlabel(\"sample id\")\n",
    "ax.set_ylabel(\"num. assocs\")"
   ]
  },
  {
   "cell_type": "code",
   "execution_count": 58,
   "metadata": {
    "collapsed": false
   },
   "outputs": [
    {
     "data": {
      "text/plain": [
       "array([ 275.99378433,  275.85922344,  275.7246586 , ...,   -0.57809155,\n",
       "         -0.72052195,   -0.8629563 ])"
      ]
     },
     "execution_count": 58,
     "metadata": {},
     "output_type": "execute_result"
    }
   ],
   "source": [
    "fit_fn(x)"
   ]
  },
  {
   "cell_type": "code",
   "execution_count": 54,
   "metadata": {
    "collapsed": false
   },
   "outputs": [
    {
     "data": {
      "text/plain": [
       "[<matplotlib.lines.Line2D at 0x7ff763e48710>]"
      ]
     },
     "execution_count": 54,
     "metadata": {},
     "output_type": "execute_result"
    },
    {
     "data": {
      "image/png": "[encoded data removed]",
      "text/plain": [
       "<matplotlib.figure.Figure at 0x7ff763df0810>"
      ]
     },
     "metadata": {},
     "output_type": "display_data"
    }
   ],
   "source": [
    "x = np.arange(1,10,0.05)\n",
    "y = 1 / np.sqrt(x)\n",
    "y = y.max() -y\n",
    "y = y / y.max()\n",
    "plt.plot(x,y)\n",
    "plt.plot(x,y[::-1])\n",
    "#plt.plot(x,np.sqrt(x)[::-1]/np.sqrt(x).max())"
   ]
  },
  {
   "cell_type": "code",
   "execution_count": 52,
   "metadata": {
    "collapsed": false
   },
   "outputs": [
    {
     "data": {
      "text/plain": [
       "136.40980611903461"
      ]
     },
     "execution_count": 52,
     "metadata": {},
     "output_type": "execute_result"
    }
   ],
   "source": [
    "y.sum()"
   ]
  },
  {
   "cell_type": "code",
   "execution_count": 15,
   "metadata": {
    "collapsed": false
   },
   "outputs": [
    {
     "name": "stderr",
     "output_type": "stream",
     "text": [
      "/home/chiroptera/anaconda/lib/python2.7/site-packages/IPython/kernel/__main__.py:2: RuntimeWarning: divide by zero encountered in log\n",
      "  from IPython.kernel.zmq import kernelapp as app\n"
     ]
    },
    {
     "data": {
      "text/plain": [
       "[<matplotlib.lines.Line2D at 0x7ff76b6e5c90>]"
      ]
     },
     "execution_count": 15,
     "metadata": {},
     "output_type": "execute_result"
    },
    {
     "data": {
      "image/png": "[encoded data removed]",
      "text/plain": [
       "<matplotlib.figure.Figure at 0x7ff76f013c50>"
      ]
     },
     "metadata": {},
     "output_type": "display_data"
    }
   ],
   "source": [
    "x = np.arange(0,2,0.05)\n",
    "y = np.exp(x)\n",
    "y /= y.max()\n",
    "y = 1-y\n",
    "plt.plot(x,y)"
   ]
  },
  {
   "cell_type": "code",
   "execution_count": 57,
   "metadata": {
    "collapsed": false
   },
   "outputs": [
    {
     "data": {
      "text/plain": [
       "<module 'MyML.utils.sparse' from '/home/chiroptera/workspace/QCThesis/MyML/utils/sparse.pyc'>"
      ]
     },
     "execution_count": 57,
     "metadata": {},
     "output_type": "execute_result"
    }
   ],
   "source": [
    "reload(myEacSp)"
   ]
  },
  {
   "cell_type": "code",
   "execution_count": 60,
   "metadata": {
    "collapsed": false
   },
   "outputs": [],
   "source": [
    "y, y_sum = myEacSp.linear(n_samples, max_assocs, 0.1, 1, 1, 0.02)"
   ]
  },
  {
   "cell_type": "code",
   "execution_count": 61,
   "metadata": {
    "collapsed": false
   },
   "outputs": [
    {
     "data": {
      "text/plain": [
       "0.55873891547049437"
      ]
     },
     "execution_count": 61,
     "metadata": {},
     "output_type": "execute_result"
    }
   ],
   "source": [
    "total_area = n_samples * max_assocs\n",
    "y_sum * 1.0 / total_area"
   ]
  },
  {
   "cell_type": "code",
   "execution_count": 13,
   "metadata": {
    "collapsed": false
   },
   "outputs": [
    {
     "data": {
      "text/plain": [
       "<matplotlib.text.Text at 0x7ff76c3cf9d0>"
      ]
     },
     "execution_count": 13,
     "metadata": {},
     "output_type": "execute_result"
    },
    {
     "data": {
      "image/png": "[encoded data removed]",
      "text/plain": [
       "<matplotlib.figure.Figure at 0x7ff76c5f2d50>"
      ]
     },
     "metadata": {},
     "output_type": "display_data"
    }
   ],
   "source": [
    "fig = plt.figure(figsize=(8,6))\n",
    "x = np.arange(n_samples)\n",
    "ax = fig.add_subplot(1,1,1)\n",
    "ax.bar(x, csp.degree[:-1])\n",
    "ax.plot([0,n_samples],[max_assocs, max_assocs])\n",
    "#ax.plot(np.arange(n_samples), max_assoc_scheme)\n",
    "ax.plot(x,y)\n",
    "\n",
    "ax.set_title(\"full sparse matrix\")\n",
    "ax.set_xlabel(\"sample id\")"
   ]
  },
  {
   "cell_type": "code",
   "execution_count": 67,
   "metadata": {
    "collapsed": false
   },
   "outputs": [
    {
     "data": {
      "text/plain": [
       "<module 'MyML.helper.scan' from '/home/chiroptera/workspace/QCThesis/MyML/helper/scan.py'>"
      ]
     },
     "execution_count": 67,
     "metadata": {},
     "output_type": "execute_result"
    }
   ],
   "source": [
    "import MyML.helper.scan as myScan\n",
    "reload(myScan)"
   ]
  },
  {
   "cell_type": "code",
   "execution_count": 63,
   "metadata": {
    "collapsed": true
   },
   "outputs": [],
   "source": [
    "y_c = y.copy()"
   ]
  },
  {
   "cell_type": "code",
   "execution_count": 71,
   "metadata": {
    "collapsed": false
   },
   "outputs": [
    {
     "data": {
      "text/plain": [
       "3503293"
      ]
     },
     "execution_count": 71,
     "metadata": {},
     "output_type": "execute_result"
    }
   ],
   "source": [
    "y_sum"
   ]
  },
  {
   "cell_type": "code",
   "execution_count": 72,
   "metadata": {
    "collapsed": false
   },
   "outputs": [
    {
     "data": {
      "text/plain": [
       "array([1254, 1254, 1254, ...,   25,   25, 5000], dtype=int32)"
      ]
     },
     "execution_count": 72,
     "metadata": {},
     "output_type": "execute_result"
    }
   ],
   "source": [
    "y_c"
   ]
  },
  {
   "cell_type": "code",
   "execution_count": 68,
   "metadata": {
    "collapsed": false
   },
   "outputs": [
    {
     "data": {
      "text/plain": [
       "3508293"
      ]
     },
     "execution_count": 68,
     "metadata": {},
     "output_type": "execute_result"
    }
   ],
   "source": [
    "myScan.exprefixsumNumbaSingle(y)"
   ]
  },
  {
   "cell_type": "code",
   "execution_count": 77,
   "metadata": {
    "collapsed": true
   },
   "outputs": [],
   "source": [
    "class testme:\n",
    "    def __init__(self,**kwargs):\n",
    "        self.val2=kwargs.get(\"val2\", 50)"
   ]
  },
  {
   "cell_type": "code",
   "execution_count": 80,
   "metadata": {
    "collapsed": false
   },
   "outputs": [
    {
     "data": {
      "text/plain": [
       "100"
      ]
     },
     "execution_count": 80,
     "metadata": {},
     "output_type": "execute_result"
    }
   ],
   "source": [
    "a=testme(val2=100)\n",
    "a.val2"
   ]
  },
  {
   "cell_type": "code",
   "execution_count": 73,
   "metadata": {
    "collapsed": false
   },
   "outputs": [
    {
     "data": {
      "text/plain": [
       "array([      0,    1254,    2508, ..., 3503243, 3503268, 3503293], dtype=int32)"
      ]
     },
     "execution_count": 73,
     "metadata": {},
     "output_type": "execute_result"
    }
   ],
   "source": [
    "y"
   ]
  },
  {
   "cell_type": "code",
   "execution_count": 76,
   "metadata": {
    "collapsed": false
   },
   "outputs": [
    {
     "data": {
      "text/plain": [
       "True"
      ]
     },
     "execution_count": 76,
     "metadata": {},
     "output_type": "execute_result"
    }
   ],
   "source": [
    "((y[1:] - y[:-1]) == y_c[:-1]).all()"
   ]
  }
 ],
 "metadata": {
  "kernelspec": {
   "display_name": "Python 2",
   "language": "python",
   "name": "python2"
  },
  "language_info": {
   "codemirror_mode": {
    "name": "ipython",
    "version": 2
   },
   "file_extension": ".py",
   "mimetype": "text/x-python",
   "name": "python",
   "nbconvert_exporter": "python",
   "pygments_lexer": "ipython2",
   "version": "2.7.10"
  }
 },
 "nbformat": 4,
 "nbformat_minor": 0
}
